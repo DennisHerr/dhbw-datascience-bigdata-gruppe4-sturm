{
 "cells": [
  {
   "cell_type": "code",
   "execution_count": 35,
   "metadata": {},
   "outputs": [],
   "source": [
    "from pyspark.sql.types import BooleanType\n",
    "from pyspark.ml.feature import StringIndexer, VectorAssembler\n",
    "from pyspark.ml.classification import LinearSVC\n",
    "from pyspark.sql.session import SparkSession\n",
    "from pyspark.sql.functions import expr\n",
    "from pyspark.ml.evaluation import BinaryClassificationEvaluator\n",
    "from helpers.helper_functions import translate_to_file_string\n",
    "from pyspark.sql import DataFrameReader\n",
    "from pyspark.sql import SparkSession\n",
    "from pyspark.ml.feature import IndexToString, Normalizer, StringIndexer, VectorAssembler, VectorIndexer, StandardScaler\n",
    "from pyspark.ml.evaluation import BinaryClassificationEvaluator\n",
    "from pyspark.ml.classification import DecisionTreeClassifier\n",
    "from pyspark.ml.classification import RandomForestClassifier\n",
    "from pyspark.ml.evaluation import MulticlassClassificationEvaluator\n",
    "from pyspark.ml.classification import MultilayerPerceptronClassificationModel, MultilayerPerceptronClassifier\n",
    "from pyspark.ml.evaluation import RegressionEvaluator\n",
    "from pyspark.ml.tuning import CrossValidator, ParamGridBuilder\n",
    "from pyspark.ml import Pipeline\n",
    "from helpers.helper_functions import translate_to_file_string\n",
    "from pyspark.ml.classification import MultilayerPerceptronClassificationModel, MultilayerPerceptronClassifier\n",
    "from sklearn.metrics import roc_curve, auc\n",
    "import seaborn as sns\n",
    "import pandas as pd\n",
    "import os\n",
    "import warnings\n",
    "import matplotlib.pyplot as plt\n",
    "warnings.filterwarnings('ignore')\n",
    "# for pretty printing\n",
    "def printDf(sprkDF): \n",
    "    newdf = sprkDF.toPandas()\n",
    "    from IPython.display import display, HTML\n",
    "    return HTML(newdf.to_html())\n",
    "def save_fig(fig_id, tight_layout=True, fig_extension=\"png\", resolution=300):\n",
    "    path = os.path.join(IMAGES_PATH, fig_id + \".\" + fig_extension)\n",
    "    print(\"Saving figure\", fig_id)\n",
    "    if tight_layout:\n",
    "        plt.tight_layout()\n",
    "    plt.savefig(path, format=fig_extension, dpi=resolution)\n",
    "    \n",
    "# Where to save the figures\n",
    "PROJECT_ROOT_DIR = \".\"\n",
    "CHAPTER_ID = \"end_to_end_project\"\n",
    "IMAGES_PATH = os.path.join(PROJECT_ROOT_DIR, \"images\", CHAPTER_ID)\n",
    "os.makedirs(IMAGES_PATH, exist_ok=True)"
   ]
  },
  {
   "cell_type": "code",
   "execution_count": 36,
   "metadata": {},
   "outputs": [],
   "source": [
    "inputFile = translate_to_file_string(\"../data/heart_val.csv\")"
   ]
  },
  {
   "cell_type": "code",
   "execution_count": 37,
   "metadata": {},
   "outputs": [],
   "source": [
    "spark = (SparkSession\n",
    "       .builder\n",
    "       .appName(\"HeartDiseaseAnalNeuralNw\")\n",
    "       .getOrCreate())"
   ]
  },
  {
   "cell_type": "code",
   "execution_count": 38,
   "metadata": {},
   "outputs": [
    {
     "name": "stdout",
     "output_type": "stream",
     "text": [
      "root\n",
      " |-- age: integer (nullable = true)\n",
      " |-- sex: string (nullable = true)\n",
      " |-- cp: integer (nullable = true)\n",
      " |-- trestbps: integer (nullable = true)\n",
      " |-- chol: integer (nullable = true)\n",
      " |-- fbs: integer (nullable = true)\n",
      " |-- restecg: integer (nullable = true)\n",
      " |-- thalach: integer (nullable = true)\n",
      " |-- exang: integer (nullable = true)\n",
      " |-- oldpeak: double (nullable = true)\n",
      " |-- slope: integer (nullable = true)\n",
      " |-- ca: integer (nullable = true)\n",
      " |-- thal: integer (nullable = true)\n",
      " |-- target: string (nullable = true)\n",
      "\n",
      "None\n"
     ]
    }
   ],
   "source": [
    "# load data file.\n",
    "# create a DataFrame using an ifered Schema \n",
    "df = spark.read.option(\"header\", \"true\") \\\n",
    "       .option(\"inferSchema\", \"true\") \\\n",
    "       .option(\"delimiter\", \";\") \\\n",
    "       .csv(inputFile)\n",
    "print(df.printSchema())\n",
    "\n",
    "#Pandas df for visualization\n",
    "dfp = df.toPandas()"
   ]
  },
  {
   "cell_type": "code",
   "execution_count": 39,
   "metadata": {},
   "outputs": [],
   "source": [
    "#transform labels\n",
    "labelIndexer = StringIndexer().setInputCol(\"target\").setOutputCol(\"label\").fit(df)\n",
    "sexIndexer = StringIndexer().setInputCol(\"sex\").setOutputCol(\"sex_num\").fit(df)"
   ]
  },
  {
   "cell_type": "code",
   "execution_count": 40,
   "metadata": {},
   "outputs": [],
   "source": [
    "#feature cols- die spalten die interessieren, auch gerne entfernen für tests\n",
    "featureCols = df.columns.copy()\n",
    "featureCols.remove(\"target\")\n",
    "featureCols.remove(\"sex\")\n",
    "featureCols = featureCols + [\"sex_num\"]"
   ]
  },
  {
   "cell_type": "code",
   "execution_count": 41,
   "metadata": {},
   "outputs": [],
   "source": [
    "#vektor assembler\n",
    "assembler =  VectorAssembler(outputCol=\"features\", inputCols=featureCols)"
   ]
  },
  {
   "cell_type": "code",
   "execution_count": 42,
   "metadata": {},
   "outputs": [],
   "source": [
    "#Build feauture Indexer \n",
    "featureIndexer = VectorIndexer(inputCol=\"features\",outputCol=\"indexedFeatures\", maxCategories=6)"
   ]
  },
  {
   "cell_type": "code",
   "execution_count": 43,
   "metadata": {},
   "outputs": [],
   "source": [
    "scaler = StandardScaler(inputCol=\"features\", outputCol=\"scaledFeatures\",\n",
    "                        withStd=True, withMean=False)"
   ]
  },
  {
   "cell_type": "code",
   "execution_count": 44,
   "metadata": {},
   "outputs": [],
   "source": [
    "#Convert Indexed labels back to original labels\n",
    "predConverter = IndexToString(inputCol=\"prediction\",outputCol=\"predictedLabel\",labels=labelIndexer.labels)"
   ]
  },
  {
   "cell_type": "code",
   "execution_count": 45,
   "metadata": {},
   "outputs": [],
   "source": [
    "nn = MultilayerPerceptronClassifier(seed=1234, featuresCol=\"scaledFeatures\")\n",
    "   \n",
    "# build network parameters grid\n",
    "\t\t\n",
    "\n",
    "paramGrid =  ParamGridBuilder().addGrid(nn.layers, [[ len(featureCols), 10, 5, 2 ]]) \\\n",
    "\t\t\t\t.addGrid(nn.blockSize,  [128 ]) \\\n",
    "                .addGrid(nn.maxIter,[ 100, 1000 ] )\\\n",
    "\t\t\t\t.addGrid(nn.stepSize, [0.003, 0.03, 0.3 ])\\\n",
    "\t\t\t\t.addGrid(nn.tol, [ 0.05, 0.1, 0.2 ]) \\\n",
    "\t\t\t\t.build()"
   ]
  },
  {
   "cell_type": "code",
   "execution_count": 46,
   "metadata": {},
   "outputs": [],
   "source": [
    "#split data for etsting\n",
    "\n",
    "splits = df.randomSplit([0.8, 0.2 ], 1234)\n",
    "train = splits[0]\n",
    "test = splits[1]"
   ]
  },
  {
   "cell_type": "code",
   "execution_count": 47,
   "metadata": {},
   "outputs": [],
   "source": [
    "#Pipelining of all steps \n",
    "pipeline = Pipeline(stages= [labelIndexer,sexIndexer,  assembler, featureIndexer, scaler, nn , predConverter])"
   ]
  },
  {
   "cell_type": "code",
   "execution_count": 48,
   "metadata": {},
   "outputs": [],
   "source": [
    "#build evaluator \n"
   ]
  },
  {
   "cell_type": "code",
   "execution_count": 49,
   "metadata": {},
   "outputs": [],
   "source": [
    "evaluator =  BinaryClassificationEvaluator(labelCol=\"label\",rawPredictionCol=\"rawPrediction\", metricName=\"areaUnderROC\")\n",
    "#evaluator = RegressionEvaluator(labelCol=\"label\", predictionCol=\"prediction\", metricName=\"rmse\")"
   ]
  },
  {
   "cell_type": "code",
   "execution_count": 50,
   "metadata": {},
   "outputs": [],
   "source": [
    "#Cross validator\n",
    "cv = CrossValidator(estimator=pipeline, evaluator=evaluator,estimatorParamMaps=paramGrid,numFolds=10, parallelism=2)"
   ]
  },
  {
   "cell_type": "code",
   "execution_count": 51,
   "metadata": {},
   "outputs": [],
   "source": [
    "#train modle\n",
    "nwModel = cv.fit(train)"
   ]
  },
  {
   "cell_type": "code",
   "execution_count": 54,
   "metadata": {},
   "outputs": [
    {
     "name": "stdout",
     "output_type": "stream",
     "text": [
      "Layers:  MultilayerPerceptronClassifier_8dc50dce9269__layers\n",
      "blockSize: block size for stacking input data in matrices. Data is stacked within partitions. If block size is more than remaining data in a partition then it is adjusted to the size of this data. (default: 128, current: 128)\n",
      "featuresCol: features column name. (default: features, current: scaledFeatures)\n",
      "initialWeights: The initial weights of the model. (undefined)\n",
      "labelCol: label column name. (default: label)\n",
      "layers: Sizes of layers from input layer to output layer E.g., Array(780, 100, 10) means 780 inputs, one hidden layer with 100 neurons and output layer of 10 neurons. (current: [13, 10, 5, 2])\n",
      "maxIter: max number of iterations (>= 0). (default: 100, current: 100)\n",
      "predictionCol: prediction column name. (default: prediction)\n",
      "probabilityCol: Column name for predicted class conditional probabilities. Note: Not all models output well-calibrated probability estimates! These probabilities should be treated as confidences, not precise probabilities. (default: probability)\n",
      "rawPredictionCol: raw prediction (a.k.a. confidence) column name. (default: rawPrediction)\n",
      "seed: random seed. (default: 1676804235546339277, current: 1234)\n",
      "solver: The solver algorithm for optimization. Supported options: l-bfgs, gd. (default: l-bfgs)\n",
      "stepSize: Step size to be used for each iteration of optimization (>= 0). (default: 0.03, current: 0.003)\n",
      "thresholds: Thresholds in multi-class classification to adjust the probability of predicting each class. Array must have length equal to the number of classes, with values > 0, excepting that at most one value may be 0. The class with largest value p/t is predicted, where p is the original probability of that class and t is the class's threshold. (undefined)\n",
      "tol: the convergence tolerance for iterative algorithms (>= 0). (default: 1e-06, current: 0.1)\n",
      "+---+---+---+--------+----+---+-------+-------+-----+-------+-----+---+----+------+-----+-------+--------------------+--------------------+--------------------+--------------------+--------------------+----------+--------------+\n",
      "|age|sex| cp|trestbps|chol|fbs|restecg|thalach|exang|oldpeak|slope| ca|thal|target|label|sex_num|            features|     indexedFeatures|      scaledFeatures|       rawPrediction|         probability|prediction|predictedLabel|\n",
      "+---+---+---+--------+----+---+-------+-------+-----+-------+-----+---+----+------+-----+-------+--------------------+--------------------+--------------------+--------------------+--------------------+----------+--------------+\n",
      "| 34|  f|  1|     118| 210|  0|      1|    192|    0|    0.7|    2|  0|   2|     y|  0.0|    1.0|[34.0,1.0,118.0,2...|[34.0,1.0,118.0,2...|[3.65688138075845...|[0.70957881832632...|[0.52986614829845...|       0.0|             y|\n",
      "| 35|  m|  0|     120| 198|  0|      1|    130|    1|    1.6|    1|  0|   3|     n|  1.0|    0.0|[35.0,0.0,120.0,1...|[35.0,0.0,120.0,1...|[3.76443671548665...|[0.74010921184909...|[0.53026048845249...|       0.0|             y|\n",
      "| 41|  f|  1|     130| 204|  0|      0|    172|    0|    1.4|    2|  0|   2|     y|  0.0|    1.0|[41.0,1.0,130.0,2...|[41.0,1.0,130.0,2...|[4.40976872385579...|[0.73656562140291...|[0.53309117237969...|       0.0|             y|\n",
      "| 41|  m|  1|     110| 235|  0|      1|    153|    0|    0.0|    2|  0|   2|     y|  0.0|    0.0|[41.0,1.0,110.0,2...|[41.0,1.0,110.0,2...|[4.40976872385579...|[0.73358368837723...|[0.53111884551193...|       0.0|             y|\n",
      "| 41|  m|  1|     120| 157|  0|      1|    182|    0|    0.0|    2|  0|   2|     y|  0.0|    0.0|[41.0,1.0,120.0,1...|[41.0,1.0,120.0,1...|[4.40976872385579...|[0.69413556475316...|[0.52678485097818...|       0.0|             y|\n",
      "| 41|  m|  1|     135| 203|  0|      1|    132|    0|    0.0|    1|  0|   1|     y|  0.0|    0.0|[41.0,1.0,135.0,2...|[41.0,1.0,135.0,2...|[4.40976872385579...|[0.63359197987510...|[0.52522404838177...|       0.0|             y|\n",
      "| 41|  m|  2|     112| 250|  0|      1|    179|    0|    0.0|    2|  0|   2|     y|  0.0|    0.0|[41.0,2.0,112.0,2...|[41.0,2.0,112.0,2...|[4.40976872385579...|[0.73408448326830...|[0.53139044447212...|       0.0|             y|\n",
      "| 42|  m|  3|     148| 244|  0|      0|    178|    0|    0.8|    2|  2|   2|     y|  0.0|    0.0|[42.0,3.0,148.0,2...|[42.0,3.0,148.0,2...|[4.51732405858398...|[0.73326594197888...|[0.53278200836737...|       0.0|             y|\n",
      "| 44|  f|  2|     108| 141|  0|      1|    175|    0|    0.6|    1|  0|   2|     y|  0.0|    1.0|[44.0,2.0,108.0,1...|[44.0,2.0,108.0,1...|[4.73243472804036...|[0.59452923615537...|[0.51929817517729...|       0.0|             y|\n",
      "| 44|  m|  0|     110| 197|  0|      0|    177|    0|    0.0|    2|  1|   2|     n|  1.0|    0.0|(13,[0,2,3,6,9,10...|(13,[0,2,3,6,9,10...|(13,[0,2,3,6,9,10...|[0.73464758353117...|[0.53208909023299...|       0.0|             y|\n",
      "| 44|  m|  1|     130| 219|  0|      0|    188|    0|    0.0|    2|  0|   2|     y|  0.0|    0.0|(13,[0,1,2,3,6,9,...|(13,[0,1,2,3,6,9,...|(13,[0,1,2,3,6,9,...|[0.73430899324406...|[0.53280565266701...|       0.0|             y|\n",
      "| 45|  f|  0|     138| 236|  0|      0|    152|    1|    0.2|    1|  0|   2|     y|  0.0|    1.0|[45.0,0.0,138.0,2...|[45.0,0.0,138.0,2...|[4.83999006276855...|[0.74104772051808...|[0.53103856042372...|       0.0|             y|\n",
      "| 45|  f|  1|     112| 160|  0|      1|    138|    0|    0.0|    1|  0|   2|     y|  0.0|    1.0|[45.0,1.0,112.0,1...|[45.0,1.0,112.0,1...|[4.83999006276855...|[0.57116576265249...|[0.51858821503886...|       0.0|             y|\n",
      "| 45|  f|  1|     130| 234|  0|      0|    175|    0|    0.6|    1|  0|   2|     y|  0.0|    1.0|[45.0,1.0,130.0,2...|[45.0,1.0,130.0,2...|[4.83999006276855...|[0.71486968540074...|[0.53137859104219...|       0.0|             y|\n",
      "| 45|  m|  3|     110| 264|  0|      1|    132|    0|    1.2|    1|  0|   3|     n|  1.0|    0.0|[45.0,3.0,110.0,2...|[45.0,3.0,110.0,2...|[4.83999006276855...|[0.73567604026652...|[0.53182827466064...|       0.0|             y|\n",
      "| 46|  f|  2|     142| 177|  0|      0|    160|    1|    1.4|    0|  0|   2|     y|  0.0|    1.0|[46.0,2.0,142.0,1...|[46.0,2.0,142.0,1...|[4.94754539749674...|[0.66399486207071...|[0.52635237407883...|       0.0|             y|\n",
      "| 47|  m|  0|     110| 275|  0|      0|    118|    1|    1.0|    1|  1|   2|     n|  1.0|    0.0|[47.0,0.0,110.0,2...|[47.0,0.0,110.0,2...|[5.05510073222493...|[0.78216206958010...|[0.53378989204175...|       0.0|             y|\n",
      "| 47|  m|  0|     112| 204|  0|      1|    143|    0|    0.1|    2|  0|   2|     y|  0.0|    0.0|[47.0,0.0,112.0,2...|[47.0,0.0,112.0,2...|[5.05510073222493...|[0.72550228763450...|[0.53033971091465...|       0.0|             y|\n",
      "| 48|  f|  2|     130| 275|  0|      1|    139|    0|    0.2|    2|  0|   2|     y|  0.0|    1.0|[48.0,2.0,130.0,2...|[48.0,2.0,130.0,2...|[5.16265606695312...|[0.72489656039240...|[0.53105762286269...|       0.0|             y|\n",
      "| 49|  f|  1|     134| 271|  0|      1|    162|    0|    0.0|    1|  0|   2|     y|  0.0|    1.0|[49.0,1.0,134.0,2...|[49.0,1.0,134.0,2...|[5.27021140168131...|[0.66260260889024...|[0.52726381034052...|       0.0|             y|\n",
      "+---+---+---+--------+----+---+-------+-------+-----+-------+-----+---+----+------+-----+-------+--------------------+--------------------+--------------------+--------------------+--------------------+----------+--------------+\n",
      "only showing top 20 rows\n",
      "\n",
      "Test Error =  0.2749169435215947\n"
     ]
    }
   ],
   "source": [
    "#Find out the best model\n",
    "bestModel = nwModel.bestModel.stages[5]\n",
    "print(\"Layers: \" , bestModel.layers)\n",
    "print(bestModel.explainParams())\n",
    "  \n",
    "predictions = nwModel.transform(test)\n",
    "\n",
    "predictions.show()\n",
    "accuracy = evaluator.evaluate(predictions)\n",
    "print(\"Test Error = \" ,(1.0 - accuracy))"
   ]
  },
  {
   "cell_type": "code",
   "execution_count": null,
   "metadata": {},
   "outputs": [],
   "source": [
    "#test model\n",
    "predictions = rfModel.transform(test)\n",
    "predictions.show()"
   ]
  },
  {
   "cell_type": "code",
   "execution_count": null,
   "metadata": {},
   "outputs": [],
   "source": [
    "accuracy = evaluator.evaluate(predictions)\n",
    "print(\"Test Error = \" ,(1.0 - accuracy))"
   ]
  },
  {
   "cell_type": "code",
   "execution_count": null,
   "metadata": {},
   "outputs": [],
   "source": [
    "spark.stop()"
   ]
  }
 ],
 "metadata": {
  "kernelspec": {
   "display_name": "Python 3",
   "language": "python",
   "name": "python3"
  },
  "language_info": {
   "codemirror_mode": {
    "name": "ipython",
    "version": 3
   },
   "file_extension": ".py",
   "mimetype": "text/x-python",
   "name": "python",
   "nbconvert_exporter": "python",
   "pygments_lexer": "ipython3",
   "version": "3.8.6"
  }
 },
 "nbformat": 4,
 "nbformat_minor": 4
}