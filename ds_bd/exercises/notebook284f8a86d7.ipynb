{
 "cells": [
  {
   "cell_type": "markdown",
   "metadata": {
    "_uuid": "91d53372180cb59958e0d2c594058650d84631b9"
   },
   "source": [
    "<h3>HEART DISEASE ANALYSIS</h3>\n",
    "\n",
    "<h3>CONTENT</h3>\n",
    "\n",
    "<ul>\n",
    "    <a href='#1'><li>INTRODUCTION</li></a>\n",
    "    <a href='#2'><li>DATASET COLUMNS FEATURE EXPLAIN</li></a>\n",
    "    <a href='#3'><li>INVESTIGATING THE DATA and EXPLORATORY DATA ANALSIS</li></a>\n",
    "        <ul>\n",
    "            <a href='#4'><li>One Visualization to Rule Them All</li></a>\n",
    "            <a href='#5'><li>Age Analysis</li></a>\n",
    "            <a href='#6'><li>Sex (Gender) Analysis</li></a>\n",
    "            <a href='#7'><li>Chest Pain Type Analysis</li></a>\n",
    "            <a href='#8'><li>Age Range Analysis</li></a>\n",
    "            <a href='#9'><li>Thalach Analysis</li></a>\n",
    "            <a href='#10'><li>Thal Analysis</li></a>\n",
    "            <a href='#11'><li>Target Analysis</li></a>\n",
    "        </ul>\n",
    "    <a href='#12'><li>MODEL, TRAINING and TESTING</li></a>\n",
    "        <ul>\n",
    "            <a href='#13'><li>Logistic Regression</li></a>\n",
    "            <a href='#14'><li>K-Nearest Neighbors</li></a>\n",
    "             <a href='#15'><li>Naive Bayes</li></a>\n",
    "             <a href='#16'><li>Decision Tree</li></a>\n",
    "             <a href='#17'><li>Random Forest</li></a>\n",
    "             <a href='#18'><li>Gradient Boosting Machine</li></a>\n",
    "             <a href='#19'><li>Kernelized SVM</li></a>\n",
    "        </ul>\n",
    "    <a href='#20'><li>CONCLUSION</li></a>\n",
    "    <a href='#21'><li>REFERENCES</li></a> \n",
    "</ul>\n",
    "\n",
    "![](http://)<p>last updated : <b>05.07.2019</b></p>\n",
    "<p><h2>If you like it, please upvote.</h2></p>\n"
   ]
  },
  {
   "cell_type": "markdown",
   "metadata": {
    "_uuid": "3569031d3390393da8290bd623f7e295b1b822c3"
   },
   "source": [
    "<p id='1'><h3>INTRODUCTION</h3></p>\n",
    "<p>This database contains 76 attributes, but all published experiments refer to using a subset of 14 of them. In particular, the Cleveland database is the only one that has been used by ML researchers to this date. The \"goal\" field refers to the presence of heart disease in the patient. It is integer valued from 0 (no presence) to 4. Experiments with the Cleveland database have concentrated on simply attempting to distinguish presence (values 1,2,3,4) from absence (value 0).</p>\n",
    "<p>In addition, we will analyze for this dataset. We will use a wide range of tools for this part. If there's value in there, we'il do it there. Finally, machine learning algorithms are estimated.</p>\n",
    "\n",
    "<p>If you want to get detailed information about python programming you can look at my account.</p>\n",
    "\n",
    "<ul>\n",
    "    Python Programming for Beginner :<li>https://www.kaggle.com/kralmachine/python-programming-language-for-data-scientists</li>\n",
    "</ul>\n",
    "\n",
    "<p>Other kernels: https://www.kaggle.com/kralmachine/kernels</p>\n",
    "\n"
   ]
  },
  {
   "cell_type": "markdown",
   "metadata": {
    "_uuid": "241806a9c99ec1fc4f7509a7733610c556ce034b"
   },
   "source": [
    "<p id='2'><h3>DATASET COLUMNS FEATURE EXPLAIN</h3></p>\n",
    "<ul>\n",
    "    <li>Age (age in years)</li>\n",
    "    <li>Sex (1 = male; 0 = female)</li>\n",
    "    <li>CP (chest pain type)</li>\n",
    "    <li>TRESTBPS (resting blood pressure (in mm Hg on admission to the hospital))</li>\n",
    "    <li>CHOL (serum cholestoral in mg/dl)</li>\n",
    "    <li>FPS (fasting blood sugar > 120 mg/dl) (1 = true; 0 = false)</li>\n",
    "    <li>RESTECH (resting electrocardiographic results)</li>\n",
    "    <li>THALACH (maximum heart rate achieved)</li>\n",
    "    <li>EXANG (exercise induced angina (1 = yes; 0 = no))</li>\n",
    "    <li>OLDPEAK (ST depression induced by exercise relative to rest)</li>\n",
    "    <li>SLOPE (the slope of the peak exercise ST segment)</li>\n",
    "    <li>CA (number of major vessels (0-3) colored by flourosopy)</li>\n",
    "    <li>THAL (3 = normal; 6 = fixed defect; 7 = reversable defect)</li>\n",
    "    <li>TARGET (1 or 0)</li>\n",
    "</ul>"
   ]
  },
  {
   "cell_type": "markdown",
   "metadata": {
    "_uuid": "d29b38f7bc55caeebabf18771c08334e07e86464"
   },
   "source": [
    "<p id='3'><h3>INVESTIGATING THE DATA and EXPLORATORY DATA ANALSIS</h3></p>\n",
    "\n",
    "<p>First, I install all the libraries that I will use in our application. I install all the libraries in the first part because the algorithms I will use later and the analysis I will make more clearly will be done.Furthurmore, I have investigated the data, presented some visualization and analysed features. Let's write it. I will import necessary Python modules and read the data.</p>"
   ]
  },
  {
   "cell_type": "code",
   "execution_count": 1,
   "metadata": {
    "_uuid": "b400c9c89a10a48ea6e3e02abc223f87209ac3f0"
   },
   "outputs": [
    {
     "ename": "ImportError",
     "evalue": "cannot import name 'Imputer' from 'sklearn.preprocessing' (/opt/conda/lib/python3.8/site-packages/sklearn/preprocessing/__init__.py)",
     "output_type": "error",
     "traceback": [
      "\u001b[0;31m---------------------------------------------------------------------------\u001b[0m",
      "\u001b[0;31mImportError\u001b[0m                               Traceback (most recent call last)",
      "\u001b[0;32m<ipython-input-1-bc481e12405d>\u001b[0m in \u001b[0;36m<module>\u001b[0;34m\u001b[0m\n\u001b[1;32m      8\u001b[0m \u001b[0;34m\u001b[0m\u001b[0m\n\u001b[1;32m      9\u001b[0m \u001b[0;32mfrom\u001b[0m \u001b[0msklearn\u001b[0m\u001b[0;34m.\u001b[0m\u001b[0mpreprocessing\u001b[0m \u001b[0;32mimport\u001b[0m \u001b[0mStandardScaler\u001b[0m\u001b[0;34m\u001b[0m\u001b[0;34m\u001b[0m\u001b[0m\n\u001b[0;32m---> 10\u001b[0;31m \u001b[0;32mfrom\u001b[0m \u001b[0msklearn\u001b[0m\u001b[0;34m.\u001b[0m\u001b[0mpreprocessing\u001b[0m \u001b[0;32mimport\u001b[0m \u001b[0mImputer\u001b[0m\u001b[0;34m\u001b[0m\u001b[0;34m\u001b[0m\u001b[0m\n\u001b[0m\u001b[1;32m     11\u001b[0m \u001b[0;32mfrom\u001b[0m \u001b[0msklearn\u001b[0m\u001b[0;34m.\u001b[0m\u001b[0mmodel_selection\u001b[0m \u001b[0;32mimport\u001b[0m \u001b[0mGridSearchCV\u001b[0m\u001b[0;34m,\u001b[0m\u001b[0mtrain_test_split\u001b[0m\u001b[0;34m,\u001b[0m\u001b[0mcross_val_score\u001b[0m\u001b[0;34m\u001b[0m\u001b[0;34m\u001b[0m\u001b[0m\n\u001b[1;32m     12\u001b[0m \u001b[0;32mfrom\u001b[0m \u001b[0msklearn\u001b[0m\u001b[0;34m.\u001b[0m\u001b[0mmetrics\u001b[0m \u001b[0;32mimport\u001b[0m \u001b[0mclassification_report\u001b[0m\u001b[0;34m,\u001b[0m\u001b[0mconfusion_matrix\u001b[0m\u001b[0;34m\u001b[0m\u001b[0;34m\u001b[0m\u001b[0m\n",
      "\u001b[0;31mImportError\u001b[0m: cannot import name 'Imputer' from 'sklearn.preprocessing' (/opt/conda/lib/python3.8/site-packages/sklearn/preprocessing/__init__.py)"
     ]
    }
   ],
   "source": [
    "import numpy as np\n",
    "import pandas as pd\n",
    "\n",
    "import matplotlib.pyplot as plt\n",
    "import seaborn as sns\n",
    "\n",
    "from datetime import datetime\n",
    "\n",
    "from sklearn.preprocessing import StandardScaler\n",
    "from sklearn.preprocessing import Imputer\n",
    "from sklearn.model_selection import GridSearchCV,train_test_split,cross_val_score\n",
    "from sklearn.metrics import classification_report,confusion_matrix\n",
    "from sklearn.linear_model import LogisticRegression\n",
    "from sklearn.naive_bayes import GaussianNB\n",
    "from sklearn.neighbors import KNeighborsClassifier\n",
    "from sklearn.tree import DecisionTreeClassifier\n",
    "from sklearn.ensemble import RandomForestClassifier\n",
    "from sklearn.ensemble import GradientBoostingClassifier\n",
    "from sklearn.svm import SVC\n",
    "from sklearn.metrics import roc_curve, auc\n",
    "import os\n",
    "import warnings\n",
    "warnings.filterwarnings('ignore')\n",
    "print(os.listdir(\"../input\"))\n"
   ]
  },
  {
   "cell_type": "markdown",
   "metadata": {
    "_uuid": "0c57a7fcb4475646ce6638ee1c563a64bbc4c80f"
   },
   "source": [
    "<p>Now, we are uploading our data set to the data variable using the <b>read_csv</b> function in the pandas library. </p>"
   ]
  },
  {
   "cell_type": "code",
   "execution_count": null,
   "metadata": {
    "_uuid": "3c90ccb594e73a793ce6e17b6cd33fe6abbee79b"
   },
   "outputs": [],
   "source": [
    "data=pd.read_csv('../input/heart.csv')"
   ]
  },
  {
   "cell_type": "code",
   "execution_count": null,
   "metadata": {
    "_uuid": "935daf577c7b8774d5a25f648256c7f1a91c0f13"
   },
   "outputs": [],
   "source": [
    "#Now, our data is loaded. We're writing the following snippet to see the loaded data. The purpose here is to see the top five of the loaded data.\n",
    "\n",
    "print('Data First 5 Rows Show\\n')\n",
    "data.head()\n"
   ]
  },
  {
   "cell_type": "code",
   "execution_count": null,
   "metadata": {
    "_uuid": "7f78b6a595d1dc5e28df75e346bcd4d8cc6edc77"
   },
   "outputs": [],
   "source": [
    "print('Data Last 5 Rows Show\\n')\n",
    "data.tail()"
   ]
  },
  {
   "cell_type": "markdown",
   "metadata": {
    "_uuid": "e838f966ca90c58a2c1f7a05f08a6e41a484db41"
   },
   "source": [
    "<p>Both the <b>head() and tail()</b> functions have a value of 5 by default. different values should be given as parameters to change these values.</p>"
   ]
  },
  {
   "cell_type": "code",
   "execution_count": null,
   "metadata": {
    "_uuid": "5704a39b6830f04da6e7715894a0cedab7412a2b"
   },
   "outputs": [],
   "source": [
    "print('Data Show Describe\\n')\n",
    "data.describe()"
   ]
  },
  {
   "cell_type": "markdown",
   "metadata": {
    "_uuid": "6413dab9e7b730b2005518b2defed1c763f6bcff"
   },
   "source": [
    "<p>Describe function is a function that allows analysis between the numerical values contained in the data set. Using this function count, mean, std, min, max, 25%, 50%, 75%.</p>\n",
    "<p>As seen in this section, most values are generally categorized. This means that we need to integrate other values into this situation. These; age, trestbps, chol, thalach.</p>"
   ]
  },
  {
   "cell_type": "code",
   "execution_count": null,
   "metadata": {
    "_uuid": "be6c733ff11b458d165bb459330267bf43010577"
   },
   "outputs": [],
   "source": [
    "print('Data Show Info\\n')\n",
    "data.info()"
   ]
  },
  {
   "cell_type": "code",
   "execution_count": null,
   "metadata": {
    "_uuid": "502da0817c783eb9fbca0b768b313c8141bd03d3"
   },
   "outputs": [],
   "source": [
    "#We will list all the columns for all data. We check all columns. Is there any spelling mistake?\n",
    "print('Data Show Columns:\\n')\n",
    "data.columns"
   ]
  },
  {
   "cell_type": "code",
   "execution_count": null,
   "metadata": {
    "_uuid": "3208caedaddbfc564f4bcb5cb3a9e163912ef8d7"
   },
   "outputs": [],
   "source": [
    "data.sample(frac=0.01)"
   ]
  },
  {
   "cell_type": "code",
   "execution_count": null,
   "metadata": {
    "_uuid": "abb6db214efd5f32f5c48d0545b29a2e76c2b40e"
   },
   "outputs": [],
   "source": [
    "#sample; random rows in dataset\n",
    "data.sample(5)"
   ]
  },
  {
   "cell_type": "markdown",
   "metadata": {
    "_uuid": "47e36c0089f8def331d6446544f55fb7ba2b88cf"
   },
   "source": [
    "<p>As you can see, we are making a single clue of the columns that the data set contains. This is the evaluation for this. Because it will be more effective in future analysis.</p>"
   ]
  },
  {
   "cell_type": "code",
   "execution_count": null,
   "metadata": {
    "_uuid": "51b5f4de5b47943e6a6e9df526724b557e147487"
   },
   "outputs": [],
   "source": [
    "data=data.rename(columns={'age':'Age','sex':'Sex','cp':'Cp','trestbps':'Trestbps','chol':'Chol','fbs':'Fbs','restecg':'Restecg','thalach':'Thalach','exang':'Exang','oldpeak':'Oldpeak','slope':'Slope','ca':'Ca','thal':'Thal','target':'Target'})"
   ]
  },
  {
   "cell_type": "code",
   "execution_count": null,
   "metadata": {
    "_uuid": "e33af08537fdb2ee80ad94fa32da6203a1ab602a"
   },
   "outputs": [],
   "source": [
    "#New show columns\n",
    "data.columns"
   ]
  },
  {
   "cell_type": "code",
   "execution_count": null,
   "metadata": {
    "_uuid": "ce59d58e3a3fd671997dac70fcdae57013a4005f"
   },
   "outputs": [],
   "source": [
    "#And, how many rows and columns are there for all data?\n",
    "print('Data Shape Show\\n')\n",
    "data.shape  #first one is rows, other is columns"
   ]
  },
  {
   "cell_type": "code",
   "execution_count": null,
   "metadata": {
    "_uuid": "a757d72bf7df3bb748a8599fc7f2c49768220be3"
   },
   "outputs": [],
   "source": [
    "#Now,I will check null on all data and If data has null, I will sum of null data's. In this way, how many missing data is in the data.\n",
    "print('Data Sum of Null Values \\n')\n",
    "data.isnull().sum()"
   ]
  },
  {
   "cell_type": "code",
   "execution_count": null,
   "metadata": {
    "_uuid": "c406fc3b26816acf35a7d11772556c2a0a27d22e"
   },
   "outputs": [],
   "source": [
    "#all rows control for null values\n",
    "data.isnull().values.any()"
   ]
  },
  {
   "cell_type": "code",
   "execution_count": null,
   "metadata": {
    "_uuid": "f8ca746d36dfc7f77a7e5e13f1da83a8ba565e0d"
   },
   "outputs": [],
   "source": [
    "plt.figure(figsize=(10,10))\n",
    "sns.heatmap(data.corr(),annot=True,fmt='.1f')\n",
    "plt.show()"
   ]
  },
  {
   "cell_type": "code",
   "execution_count": null,
   "metadata": {
    "_uuid": "6141496a39472425f45506a2a2537aa0e2ab5a41"
   },
   "outputs": [],
   "source": [
    "plt.figure(figsize=(10,10))\n",
    "sns.heatmap(data.corr(),vmax=.3, center=0,\n",
    "            square=True, linewidths=.5, cbar_kws={\"shrink\": .5},annot=True)\n",
    "plt.tight_layout()\n",
    "plt.show()"
   ]
  },
  {
   "cell_type": "markdown",
   "metadata": {
    "_uuid": "e378df5f14514ffb42ba247e8b1827b876250040"
   },
   "source": [
    "<p id='4'><h3>One Visualization to Rule Them All</h3></p>"
   ]
  },
  {
   "cell_type": "markdown",
   "metadata": {
    "_uuid": "1ab1813efcfc08bec556994ae104380042d358a7"
   },
   "source": [
    "<p>We will perform analysis on the training data. The relationship between the features found in the training data is observed. In this way, comments about the properties can be made\n",
    "</p>"
   ]
  },
  {
   "cell_type": "code",
   "execution_count": null,
   "metadata": {},
   "outputs": [],
   "source": [
    "sns.pairplot(data)\n",
    "plt.show()"
   ]
  },
  {
   "cell_type": "markdown",
   "metadata": {
    "_uuid": "01db11e5fc4257b0ced21476bfea7b99048ab8f5"
   },
   "source": [
    "<p id='5'><h3>Age Analysis</h3></p>"
   ]
  },
  {
   "cell_type": "code",
   "execution_count": null,
   "metadata": {
    "_uuid": "f119ec5a47d46e210a634c250016eddbac666912"
   },
   "outputs": [],
   "source": [
    "data.Age.value_counts()[:10]\n",
    "#data age show value counts for age least 10"
   ]
  },
  {
   "cell_type": "code",
   "execution_count": null,
   "metadata": {
    "_uuid": "2413a21425b6de5f939ab315c4f5a912ed2de5eb"
   },
   "outputs": [],
   "source": [
    "sns.barplot(x=data.Age.value_counts()[:10].index,y=data.Age.value_counts()[:10].values)\n",
    "plt.xlabel('Age')\n",
    "plt.ylabel('Age Counter')\n",
    "plt.title('Age Analysis System')\n",
    "plt.show()"
   ]
  },
  {
   "cell_type": "markdown",
   "metadata": {
    "_uuid": "490de48dee04e247a1db05bc233aaa70d45b5426"
   },
   "source": [
    "<p>In this section, the best analysis can be divided into the <b>elderly,middle-aged, young</b> people by looking at the age ranges.</p>"
   ]
  },
  {
   "cell_type": "code",
   "execution_count": null,
   "metadata": {
    "_uuid": "e5527bc79f3e9c128e737668da7486d1395d5af8"
   },
   "outputs": [],
   "source": [
    "#firstly find min and max ages\n",
    "minAge=min(data.Age)\n",
    "maxAge=max(data.Age)\n",
    "meanAge=data.Age.mean()\n",
    "print('Min Age :',minAge)\n",
    "print('Max Age :',maxAge)\n",
    "print('Mean Age :',meanAge)"
   ]
  },
  {
   "cell_type": "code",
   "execution_count": null,
   "metadata": {
    "_uuid": "bc7fed570b5ae8ccf671b7b1e9383fbc775d3c45"
   },
   "outputs": [],
   "source": [
    "young_ages=data[(data.Age>=29)&(data.Age<40)]\n",
    "middle_ages=data[(data.Age>=40)&(data.Age<55)]\n",
    "elderly_ages=data[(data.Age>55)]\n",
    "print('Young Ages :',len(young_ages))\n",
    "print('Middle Ages :',len(middle_ages))\n",
    "print('Elderly Ages :',len(elderly_ages))"
   ]
  },
  {
   "cell_type": "code",
   "execution_count": null,
   "metadata": {
    "_uuid": "2081e5081e095e3f8eb5eae6467125ac7f26fc69"
   },
   "outputs": [],
   "source": [
    "sns.barplot(x=['young ages','middle ages','elderly ages'],y=[len(young_ages),len(middle_ages),len(elderly_ages)])\n",
    "plt.xlabel('Age Range')\n",
    "plt.ylabel('Age Counts')\n",
    "plt.title('Ages State in Dataset')\n",
    "plt.show()"
   ]
  },
  {
   "cell_type": "markdown",
   "metadata": {
    "_uuid": "f6c349bc1b6216fb26fff20001c5dbb5333a3810"
   },
   "source": [
    "<p>so,a new <b>feature</b> value can be removed from these age ranges will not affect this impact will see in the future.</p>"
   ]
  },
  {
   "cell_type": "code",
   "execution_count": null,
   "metadata": {
    "_uuid": "6a5d8d752a1710f89b88481d7ad255b94d9f3a1f"
   },
   "outputs": [],
   "source": [
    "data['AgeRange']=0\n",
    "youngAge_index=data[(data.Age>=29)&(data.Age<40)].index\n",
    "middleAge_index=data[(data.Age>=40)&(data.Age<55)].index\n",
    "elderlyAge_index=data[(data.Age>55)].index"
   ]
  },
  {
   "cell_type": "code",
   "execution_count": null,
   "metadata": {
    "_uuid": "b51a6a78275989380f5890e9e4df2d715e3525bc"
   },
   "outputs": [],
   "source": [
    "for index in elderlyAge_index:\n",
    "    data.loc[index,'AgeRange']=2\n",
    "    \n",
    "for index in middleAge_index:\n",
    "    data.loc[index,'AgeRange']=1\n",
    "\n",
    "for index in youngAge_index:\n",
    "    data.loc[index,'AgeRange']=0"
   ]
  },
  {
   "cell_type": "code",
   "execution_count": null,
   "metadata": {
    "_uuid": "a75078e2af0031f6a02668af96661bec40bab887"
   },
   "outputs": [],
   "source": [
    "# Draw a categorical scatterplot to show each observation\n",
    "sns.swarmplot(x=\"AgeRange\", y=\"Age\",hue='Sex',\n",
    "              palette=[\"r\", \"c\", \"y\"], data=data)\n",
    "plt.show()"
   ]
  },
  {
   "cell_type": "code",
   "execution_count": null,
   "metadata": {
    "_uuid": "75e99ebe041738cad8126d9705aab7ceedb2b55f"
   },
   "outputs": [],
   "source": [
    "# Plot the total crashes\n",
    "sns.set_color_codes(\"pastel\")\n",
    "sns.barplot(y=\"AgeRange\", x=\"Sex\", data=data,\n",
    "            label=\"Total\", color=\"b\")\n",
    "plt.show()"
   ]
  },
  {
   "cell_type": "code",
   "execution_count": null,
   "metadata": {},
   "outputs": [],
   "source": [
    "sns.countplot(elderly_ages.Sex)\n",
    "plt.title(\"Elderly Sex Operations\")\n",
    "plt.show()"
   ]
  },
  {
   "cell_type": "code",
   "execution_count": null,
   "metadata": {},
   "outputs": [],
   "source": [
    "elderly_ages.groupby(elderly_ages['Sex'])['Thalach'].agg('sum')"
   ]
  },
  {
   "cell_type": "code",
   "execution_count": null,
   "metadata": {},
   "outputs": [],
   "source": [
    "sns.barplot(x=elderly_ages.groupby(elderly_ages['Sex'])['Thalach'].agg('sum').index,y=elderly_ages.groupby(elderly_ages['Sex'])['Thalach'].agg('sum').values)\n",
    "plt.title(\"Gender Group Thalach Show Sum Time\")\n",
    "plt.show()"
   ]
  },
  {
   "cell_type": "code",
   "execution_count": null,
   "metadata": {
    "_uuid": "b361d68346e8e6590d3360cd638f14d5f6441174"
   },
   "outputs": [],
   "source": [
    "sns.violinplot(data.Age, palette=\"Set3\", bw=.2, cut=1, linewidth=1)\n",
    "plt.xticks(rotation=90)\n",
    "plt.title(\"Age Rates\")\n",
    "plt.show()"
   ]
  },
  {
   "cell_type": "code",
   "execution_count": null,
   "metadata": {},
   "outputs": [],
   "source": [
    "plt.figure(figsize=(15,7))\n",
    "sns.violinplot(x=data.Age,y=data.Target)\n",
    "plt.xticks(rotation=90)\n",
    "plt.legend()\n",
    "plt.title(\"Age & Target System\")\n",
    "plt.show()"
   ]
  },
  {
   "cell_type": "code",
   "execution_count": null,
   "metadata": {},
   "outputs": [],
   "source": [
    "colors = ['blue','green','yellow']\n",
    "explode = [0,0,0.1]\n",
    "plt.figure(figsize = (5,5))\n",
    "#plt.pie([target_0_agerang_0,target_1_agerang_0], explode=explode, labels=['Target 0 Age Range 0','Target 1 Age Range 0'], colors=colors, autopct='%1.1f%%')\n",
    "plt.pie([len(young_ages),len(middle_ages),len(elderly_ages)],labels=['young ages','middle ages','elderly ages'],explode=explode,colors=colors, autopct='%1.1f%%')\n",
    "plt.title('Age States',color = 'blue',fontsize = 15)\n",
    "plt.show()"
   ]
  },
  {
   "cell_type": "markdown",
   "metadata": {
    "_uuid": "54bff314617c5b49c45575688f755e6b9f6b012a"
   },
   "source": [
    "<p id='6'><h3>Sex (Gender) Analysis</h3></p>"
   ]
  },
  {
   "cell_type": "code",
   "execution_count": null,
   "metadata": {
    "_uuid": "0a063dfdd08d592f608947523d6438be3363cc73"
   },
   "outputs": [],
   "source": [
    "data.Sex.value_counts()"
   ]
  },
  {
   "cell_type": "code",
   "execution_count": null,
   "metadata": {
    "_uuid": "c2664298fe5e9e5cc3460d4e2b1b9e7f48123f6a"
   },
   "outputs": [],
   "source": [
    "#Sex (1 = male; 0 = female)\n",
    "sns.countplot(data.Sex)\n",
    "plt.show()"
   ]
  },
  {
   "cell_type": "markdown",
   "metadata": {
    "_uuid": "bced845206a064c2b007ae9e1ec0876aa671d139"
   },
   "source": [
    "<p>In the above output, I wish it would be good if there was an equal proportion of people. At the moment it seems to be imbalance value, but for this situation it applies to Gender.</p>"
   ]
  },
  {
   "cell_type": "code",
   "execution_count": null,
   "metadata": {},
   "outputs": [],
   "source": [
    "sns.countplot(data.Sex,hue=data.Slope)\n",
    "plt.title('Slope & Sex Rates Show')\n",
    "plt.show()"
   ]
  },
  {
   "cell_type": "code",
   "execution_count": null,
   "metadata": {
    "_uuid": "aef18d00c0d53a335e80976d8ecc661099d29936"
   },
   "outputs": [],
   "source": [
    "total_genders_count=len(data.Sex)\n",
    "male_count=len(data[data['Sex']==1])\n",
    "female_count=len(data[data['Sex']==0])\n",
    "print('Total Genders :',total_genders_count)\n",
    "print('Male Count    :',male_count)\n",
    "print('Female Count  :',female_count)"
   ]
  },
  {
   "cell_type": "code",
   "execution_count": null,
   "metadata": {
    "_uuid": "6efeaef3634e882497e0179a9d818f3b0fc68ef2"
   },
   "outputs": [],
   "source": [
    "#Percentage ratios\n",
    "print(\"Male State: {:.2f}%\".format((male_count / (total_genders_count)*100)))\n",
    "print(\"Female State: {:.2f}%\".format((female_count / (total_genders_count)*100)))"
   ]
  },
  {
   "cell_type": "markdown",
   "metadata": {
    "_uuid": "ff7a771e29ca763fff33a4bcd1c60269805270ac"
   },
   "source": [
    "<p>Now, we are going to analyze both the sex and the heart health situation.</p>"
   ]
  },
  {
   "cell_type": "code",
   "execution_count": null,
   "metadata": {
    "_uuid": "d1e24a2526274ae962e7a14f4fd3e200c2e2821c"
   },
   "outputs": [],
   "source": [
    "#Male State & target 1 & 0\n",
    "male_andtarget_on=len(data[(data.Sex==1)&(data['Target']==1)])\n",
    "male_andtarget_off=len(data[(data.Sex==1)&(data['Target']==0)])\n",
    "####\n",
    "sns.barplot(x=['Male Target On','Male Target Off'],y=[male_andtarget_on,male_andtarget_off])\n",
    "plt.xlabel('Male and Target State')\n",
    "plt.ylabel('Count')\n",
    "plt.title('State of the Gender')\n",
    "plt.show()"
   ]
  },
  {
   "cell_type": "markdown",
   "metadata": {
    "_uuid": "2309d312e386d5df1cf5002431654d729f061e31"
   },
   "source": [
    "<p>In this section, the rate of disease is seen less when the gender value is male. This is the result of an analysis for us.</p>"
   ]
  },
  {
   "cell_type": "code",
   "execution_count": null,
   "metadata": {
    "_uuid": "6f52a14bbea003f31c8c66c5c39ce52bb12754ae"
   },
   "outputs": [],
   "source": [
    "#Female State & target 1 & 0\n",
    "female_andtarget_on=len(data[(data.Sex==0)&(data['Target']==1)])\n",
    "female_andtarget_off=len(data[(data.Sex==0)&(data['Target']==0)])\n",
    "####\n",
    "sns.barplot(x=['Female Target On','Female Target Off'],y=[female_andtarget_on,female_andtarget_off])\n",
    "plt.xlabel('Female and Target State')\n",
    "plt.ylabel('Count')\n",
    "plt.title('State of the Gender')\n",
    "plt.show()"
   ]
  },
  {
   "cell_type": "code",
   "execution_count": null,
   "metadata": {
    "_uuid": "0938488b1cac28803eee7356a4c3c19f4e850409"
   },
   "outputs": [],
   "source": [
    "\n",
    "# Plot miles per gallon against horsepower with other semantics\n",
    "sns.relplot(x=\"Trestbps\", y=\"Age\",\n",
    "            sizes=(40, 400), alpha=.5, palette=\"muted\",\n",
    "            height=6, data=data)"
   ]
  },
  {
   "cell_type": "markdown",
   "metadata": {
    "_uuid": "abf14c35bef14a71fca38ae65a3a93c72c8cedc6"
   },
   "source": [
    "<p>In the above analysis, the gender of people who are female is more common. In order to better understand this, we will make a more effective analysis in the following stages.</p>"
   ]
  },
  {
   "cell_type": "code",
   "execution_count": null,
   "metadata": {
    "_uuid": "d9acddf621939b10e2e9841881f3adabdbf5b034"
   },
   "outputs": [],
   "source": [
    "data.head()"
   ]
  },
  {
   "cell_type": "markdown",
   "metadata": {
    "_uuid": "484cfe7d83922728ca51cac513c88776e18c5ddc"
   },
   "source": [
    "<p id='7'><h3>Chest Pain Type Analysis</h3></p>\n",
    "<p>A wide range of chest pain is present in cases of heart failure. These pains will be analyzed according to their problems and age ranges in the analysis system.</p>"
   ]
  },
  {
   "cell_type": "code",
   "execution_count": null,
   "metadata": {
    "_uuid": "6f8af4debe724e3df7ecbc90467c25664a3b335a"
   },
   "outputs": [],
   "source": [
    "#As seen, there are 4 types of chest pain.\n",
    "data.Cp.value_counts()"
   ]
  },
  {
   "cell_type": "code",
   "execution_count": null,
   "metadata": {
    "_uuid": "b66a705dce5fde1511c5fdd098bdf7481c222388"
   },
   "outputs": [],
   "source": [
    "sns.countplot(data.Cp)\n",
    "plt.xlabel('Chest Type')\n",
    "plt.ylabel('Count')\n",
    "plt.title('Chest Type vs Count State')\n",
    "plt.show()\n",
    "#0 status at least\n",
    "#1 condition slightly distressed\n",
    "#2 condition medium problem\n",
    "#3 condition too bad"
   ]
  },
  {
   "cell_type": "code",
   "execution_count": null,
   "metadata": {
    "_uuid": "8d37a8388d8bf265156cd9f96086880df4d35a8b"
   },
   "outputs": [],
   "source": [
    "cp_zero_target_zero=len(data[(data.Cp==0)&(data.Target==0)])\n",
    "cp_zero_target_one=len(data[(data.Cp==0)&(data.Target==1)])"
   ]
  },
  {
   "cell_type": "code",
   "execution_count": null,
   "metadata": {
    "_uuid": "9ced4533043a4539c683f6db9cf997fd09c6c487"
   },
   "outputs": [],
   "source": [
    "sns.barplot(x=['cp_zero_target_zero','cp_zero_target_one'],y=[cp_zero_target_zero,cp_zero_target_one])\n",
    "plt.show()"
   ]
  },
  {
   "cell_type": "code",
   "execution_count": null,
   "metadata": {
    "_uuid": "a476eea383594a7cc6a6d580daa13b30929a8ee2"
   },
   "outputs": [],
   "source": [
    "cp_one_target_zero=len(data[(data.Cp==1)&(data.Target==0)])\n",
    "cp_one_target_one=len(data[(data.Cp==1)&(data.Target==1)])"
   ]
  },
  {
   "cell_type": "code",
   "execution_count": null,
   "metadata": {
    "_uuid": "d7522c844400f0049409a77b5e74041474ba1126"
   },
   "outputs": [],
   "source": [
    "sns.barplot(x=['cp_one_target_zero','cp_one_target_one'],y=[cp_one_target_zero,cp_one_target_one])\n",
    "plt.show()"
   ]
  },
  {
   "cell_type": "code",
   "execution_count": null,
   "metadata": {
    "_uuid": "5a376c05fcf2867ad1a89d5088607874ac677f19"
   },
   "outputs": [],
   "source": [
    "cp_two_target_zero=len(data[(data.Cp==2)&(data.Target==0)])\n",
    "cp_two_target_one=len(data[(data.Cp==2)&(data.Target==1)])"
   ]
  },
  {
   "cell_type": "code",
   "execution_count": null,
   "metadata": {
    "_uuid": "2b3cd71b7fe24be4271107c079f23e9c429295d4"
   },
   "outputs": [],
   "source": [
    "sns.barplot(x=['cp_two_target_zero','cp_two_target_one'],y=[cp_two_target_zero,cp_two_target_one])\n",
    "plt.show()"
   ]
  },
  {
   "cell_type": "code",
   "execution_count": null,
   "metadata": {
    "_uuid": "4a2a656c989f4a7a01ccdea18e7226ab12178ae7"
   },
   "outputs": [],
   "source": [
    "cp_three_target_zero=len(data[(data.Cp==3)&(data.Target==0)])\n",
    "cp_three_target_one=len(data[(data.Cp==3)&(data.Target==1)])"
   ]
  },
  {
   "cell_type": "code",
   "execution_count": null,
   "metadata": {
    "_uuid": "72e6f80e822f36d3be6bbf558599ec781c7d7151"
   },
   "outputs": [],
   "source": [
    "sns.barplot(x=['cp_three_target_zero','cp_three_target_one'],y=[cp_three_target_zero,cp_three_target_one])\n",
    "plt.show()"
   ]
  },
  {
   "cell_type": "code",
   "execution_count": null,
   "metadata": {},
   "outputs": [],
   "source": [
    "data.head(1)"
   ]
  },
  {
   "cell_type": "code",
   "execution_count": null,
   "metadata": {},
   "outputs": [],
   "source": [
    "# Show the results of a linear regression within each dataset\n",
    "sns.lmplot(x=\"Trestbps\", y=\"Chol\",data=data,hue=\"Cp\")\n",
    "plt.show()"
   ]
  },
  {
   "cell_type": "markdown",
   "metadata": {
    "_uuid": "0c6df9833fcd8f2d0daed56bb96bfb2dabcc9d5b"
   },
   "source": [
    "<p>As a result of the above analyzes, it can be seen that 0 cases with chest pain are less common with heart disease. But on the other hand, there are problems in all cases of chest pain, such as 1,2,3.</p>"
   ]
  },
  {
   "cell_type": "markdown",
   "metadata": {
    "_uuid": "8083b00c543c66197e22a0327e768fb6cb52ed95"
   },
   "source": [
    "<p id='8'><h3>Age Range Analysis</h3></p>\n",
    "<p>In this section, age range analysis values are revealed. In this section we have used our new feature values.</p>"
   ]
  },
  {
   "cell_type": "code",
   "execution_count": null,
   "metadata": {
    "_uuid": "c8a36d86c2260eb8c9c4c6bb217fb6cc91a914db"
   },
   "outputs": [],
   "source": [
    "target_0_agerang_0=len(data[(data.Target==0)&(data.AgeRange==0)])\n",
    "target_1_agerang_0=len(data[(data.Target==1)&(data.AgeRange==0)])"
   ]
  },
  {
   "cell_type": "code",
   "execution_count": null,
   "metadata": {
    "_uuid": "c2f2f0dff2e53729f8efc0e0bf2e6dd96ad7184d"
   },
   "outputs": [],
   "source": [
    "colors = ['blue','green']\n",
    "explode = [0,0.1]\n",
    "plt.figure(figsize = (5,5))\n",
    "plt.pie([target_0_agerang_0,target_1_agerang_0], explode=explode, labels=['Target 0 Age Range 0','Target 1 Age Range 0'], colors=colors, autopct='%1.1f%%')\n",
    "plt.title('Target vs Age Range Young Age ',color = 'blue',fontsize = 15)\n",
    "plt.show()"
   ]
  },
  {
   "cell_type": "code",
   "execution_count": null,
   "metadata": {
    "_uuid": "26303f50583eb90ddd05cb1c473997f2b5dc6c29"
   },
   "outputs": [],
   "source": [
    "target_0_agerang_1=len(data[(data.Target==0)&(data.AgeRange==1)])\n",
    "target_1_agerang_1=len(data[(data.Target==1)&(data.AgeRange==1)])"
   ]
  },
  {
   "cell_type": "code",
   "execution_count": null,
   "metadata": {
    "_uuid": "c2484fa6de4f5a5cafd2b79925bdddd35b496b73"
   },
   "outputs": [],
   "source": [
    "colors = ['blue','green']\n",
    "explode = [0.1,0]\n",
    "plt.figure(figsize = (5,5))\n",
    "plt.pie([target_0_agerang_1,target_1_agerang_1], explode=explode, labels=['Target 0 Age Range 1','Target 1 Age Range 1'], colors=colors, autopct='%1.1f%%')\n",
    "plt.title('Target vs Age Range Middle Age',color = 'blue',fontsize = 15)\n",
    "plt.show()"
   ]
  },
  {
   "cell_type": "code",
   "execution_count": null,
   "metadata": {
    "_uuid": "317b84ed33230d32e7cfb821c90273ff280563e3"
   },
   "outputs": [],
   "source": [
    "target_0_agerang_2=len(data[(data.Target==0)&(data.AgeRange==2)])\n",
    "target_1_agerang_2=len(data[(data.Target==1)&(data.AgeRange==2)])"
   ]
  },
  {
   "cell_type": "code",
   "execution_count": null,
   "metadata": {
    "_uuid": "d4ad1628898caa0f581bc3d67d72184061ceae0c"
   },
   "outputs": [],
   "source": [
    "colors = ['blue','green']\n",
    "explode = [0,0.1]\n",
    "plt.figure(figsize = (5,5))\n",
    "plt.pie([target_0_agerang_2,target_1_agerang_2], explode=explode, labels=['Target 0 Age Range 2','Target 1 Age Range 2'], colors=colors, autopct='%1.1f%%')\n",
    "plt.title('Target vs Age Range Elderly Age ',color = 'blue',fontsize = 15)\n",
    "plt.show()"
   ]
  },
  {
   "cell_type": "markdown",
   "metadata": {
    "_uuid": "e628a705fc167a6b0be9c9d196743c56ace57bc2"
   },
   "source": [
    "<p id='9'><h3>Thalach Analysis</h3></p>\n",
    "<p>The analysis of the system we discussed in the case of maximum heart rate is shown.</p>"
   ]
  },
  {
   "cell_type": "code",
   "execution_count": null,
   "metadata": {
    "_uuid": "799b442d055f258ab04a95bf97656cacee40acdd"
   },
   "outputs": [],
   "source": [
    "data.Thalach.value_counts()[:20]\n",
    "#First show 20 rows"
   ]
  },
  {
   "cell_type": "code",
   "execution_count": null,
   "metadata": {
    "_uuid": "5b6ed337c1aec0766c15b6d1cb939a0d490342ca"
   },
   "outputs": [],
   "source": [
    "sns.barplot(x=data.Thalach.value_counts()[:20].index,y=data.Thalach.value_counts()[:20].values)\n",
    "plt.xlabel('Thalach')\n",
    "plt.ylabel('Count')\n",
    "plt.title('Thalach Counts')\n",
    "plt.xticks(rotation=45)\n",
    "plt.show()"
   ]
  },
  {
   "cell_type": "markdown",
   "metadata": {
    "_uuid": "c0a54f1b5bd5825d11d02743d2836eb422c15dc6"
   },
   "source": [
    "<p>In the analysis system, which will be carried out now, an analysis shall be carried out for all persons or their status in the target process.</p>"
   ]
  },
  {
   "cell_type": "code",
   "execution_count": null,
   "metadata": {},
   "outputs": [],
   "source": [
    "sns.swarmplot(x=data.Age)\n",
    "plt.title('Age Rates')\n",
    "plt.show()"
   ]
  },
  {
   "cell_type": "code",
   "execution_count": null,
   "metadata": {
    "_uuid": "6058b43dc064ff09c8b6799cc14c9aebff9ff8ea"
   },
   "outputs": [],
   "source": [
    "age_unique=sorted(data.Age.unique())\n",
    "age_thalach_values=data.groupby('Age')['Thalach'].count().values\n",
    "mean_thalach=[]\n",
    "for i,age in enumerate(age_unique):\n",
    "    mean_thalach.append(sum(data[data['Age']==age].Thalach)/age_thalach_values[i])"
   ]
  },
  {
   "cell_type": "markdown",
   "metadata": {
    "_uuid": "80d40ea140cfb4773f7a8ab2f50f6b6c20d60370"
   },
   "source": [
    "<p>The transactions we perform in this section mean an average age. In this part, taking the average of all transactions is performed.</p>"
   ]
  },
  {
   "cell_type": "code",
   "execution_count": null,
   "metadata": {
    "_uuid": "9f3142c82f02bee35abed9241833b95edc2fab2e"
   },
   "outputs": [],
   "source": [
    "#data_sorted=data.sort_values(by='Age',ascending=True)\n",
    "plt.figure(figsize=(10,5))\n",
    "sns.pointplot(x=age_unique,y=mean_thalach,color='red',alpha=0.8)\n",
    "plt.xlabel('Age',fontsize = 15,color='blue')\n",
    "plt.xticks(rotation=45)\n",
    "plt.ylabel('Thalach',fontsize = 15,color='blue')\n",
    "plt.title('Age vs Thalach',fontsize = 15,color='blue')\n",
    "plt.grid()\n",
    "plt.show()"
   ]
  },
  {
   "cell_type": "markdown",
   "metadata": {
    "_uuid": "af4e0469b5a9105d40181958e54902f7b28b6375"
   },
   "source": [
    "<p>In this section we will use the groupby function. Our aim here is to obtain the average values of Thalach according to age ranges. Because we're going to do chest pain.</p>"
   ]
  },
  {
   "cell_type": "code",
   "execution_count": null,
   "metadata": {
    "_uuid": "675d9a8846c66f5e6288a6e526816a59e39a73bc"
   },
   "outputs": [],
   "source": [
    "age_range_thalach=data.groupby('AgeRange')['Thalach'].mean()"
   ]
  },
  {
   "cell_type": "code",
   "execution_count": null,
   "metadata": {
    "_uuid": "04dd6762fbaef7e99b9e1c1ec7c46b3b49e5f49e"
   },
   "outputs": [],
   "source": [
    "sns.barplot(x=age_range_thalach.index,y=age_range_thalach.values)\n",
    "plt.xlabel('Age Range Values')\n",
    "plt.ylabel('Maximum Thalach By Age Range')\n",
    "plt.title('illustration of the thalach to the age range')\n",
    "plt.show()\n",
    "#As shown in this graph, this rate decreases as the heart rate \n",
    "#is faster and in old age areas."
   ]
  },
  {
   "cell_type": "code",
   "execution_count": null,
   "metadata": {
    "_uuid": "befb64701cd39874939e1761e7804aecf03114a7"
   },
   "outputs": [],
   "source": [
    "cp_thalach=data.groupby('Cp')['Thalach'].mean()"
   ]
  },
  {
   "cell_type": "code",
   "execution_count": null,
   "metadata": {
    "_uuid": "d7c77239c8dfbebcfdcba88e0c17bc009b02d2ce"
   },
   "outputs": [],
   "source": [
    "sns.barplot(x=cp_thalach.index,y=cp_thalach.values)\n",
    "plt.xlabel('Degree of Chest Pain (Cp)')\n",
    "plt.ylabel('Maximum Thalach By Cp Values')\n",
    "plt.title('Illustration of thalach to degree of chest pain')\n",
    "plt.show()\n",
    "#As seen in this graph, it is seen that the heart rate is less \n",
    "#when the chest pain is low. But in cases where chest pain is \n",
    "#1, it is observed that the area is more. 2 and 3 were found to \n",
    "#be of the same degree."
   ]
  },
  {
   "cell_type": "markdown",
   "metadata": {
    "_uuid": "1e9241f21671521cf3bedd4d18a579e2120663b9"
   },
   "source": [
    "<p id=10><h3>Thal Analysis</h3></p>\n",
    "<p>3 = normal; 6 = fixed defect; 7 = reversable defect</p>"
   ]
  },
  {
   "cell_type": "code",
   "execution_count": null,
   "metadata": {
    "_uuid": "049d11a2f1e923cc0d69549324e26ee3f0dd975c"
   },
   "outputs": [],
   "source": [
    "data.Thal.value_counts()"
   ]
  },
  {
   "cell_type": "code",
   "execution_count": null,
   "metadata": {
    "_uuid": "4b995b82800ace6e8a280dc747add9a178a2c897"
   },
   "outputs": [],
   "source": [
    "sns.countplot(data.Thal)\n",
    "plt.show()"
   ]
  },
  {
   "cell_type": "markdown",
   "metadata": {
    "_uuid": "efa455573eb5fa4ffe5e5122611ed9cea69a356f"
   },
   "source": [
    "<p>According to the analysis, Thal values are observed. Of these values, 0 is only 2. 1 showed a distribution of 18. In order to better understand this distribution, we need to take a look at the data set.</p>"
   ]
  },
  {
   "cell_type": "code",
   "execution_count": null,
   "metadata": {
    "_uuid": "90059022fef4509030ac2ce255b6642f6c959332"
   },
   "outputs": [],
   "source": [
    "data[(data.Thal==0)]\n",
    "#as seen, only 50% was understood to be 50% target."
   ]
  },
  {
   "cell_type": "code",
   "execution_count": null,
   "metadata": {
    "_uuid": "394e317a45cd024200bbfdf07b8db2daff88264c"
   },
   "outputs": [],
   "source": [
    "data[(data['Thal']==1)].Target.value_counts()\n",
    "sns.barplot(x=data[(data['Thal']==1)].Target.value_counts().index,y=data[(data['Thal']==1)].Target.value_counts().values)\n",
    "plt.xlabel('Thal Value')\n",
    "plt.ylabel('Count')\n",
    "plt.title('Counter for Thal')\n",
    "plt.show()"
   ]
  },
  {
   "cell_type": "markdown",
   "metadata": {
    "_uuid": "da8c9c6cd8627e1aaeea0519c86a0a3deb6db6af"
   },
   "source": [
    "<p>Another issue I am curious about in this section is the situation in which the value of the target is 1 and it is the maximum value of Thal.</p>"
   ]
  },
  {
   "cell_type": "code",
   "execution_count": null,
   "metadata": {
    "_uuid": "0d8a53380e88f034471814d1bede27d7f7961565"
   },
   "outputs": [],
   "source": [
    "#Target 1\n",
    "a=len(data[(data['Target']==1)&(data['Thal']==0)])\n",
    "b=len(data[(data['Target']==1)&(data['Thal']==1)])\n",
    "c=len(data[(data['Target']==1)&(data['Thal']==2)])\n",
    "d=len(data[(data['Target']==1)&(data['Thal']==3)])\n",
    "print('Target 1 Thal 0: ',a)\n",
    "print('Target 1 Thal 1: ',b)\n",
    "print('Target 1 Thal 2: ',c)\n",
    "print('Target 1 Thal 3: ',d)\n",
    "\n",
    "#so,Apparently, there is a rate at Thal 2.Now, draw graph\n",
    "print('*'*50)\n",
    "#Target 0\n",
    "e=len(data[(data['Target']==0)&(data['Thal']==0)])\n",
    "f=len(data[(data['Target']==0)&(data['Thal']==1)])\n",
    "g=len(data[(data['Target']==0)&(data['Thal']==2)])\n",
    "h=len(data[(data['Target']==0)&(data['Thal']==3)])\n",
    "print('Target 0 Thal 0: ',e)\n",
    "print('Target 0 Thal 1: ',f)\n",
    "print('Target 0 Thal 2: ',g)\n",
    "print('Target 0 Thal 3: ',h)"
   ]
  },
  {
   "cell_type": "code",
   "execution_count": null,
   "metadata": {
    "_uuid": "7e845213415ae005cda8c0cce02b4a596ad091b4"
   },
   "outputs": [],
   "source": [
    "f,ax=plt.subplots(figsize=(7,7))\n",
    "sns.barplot(y=['T 1&0 Th 0','T 1&0 Th 1','T 1&0 Th 2','Ta 1&0 Th 3'],x=[1,6,130,28],color='green',alpha=0.5,label='Target 1 Thal State')\n",
    "sns.barplot(y=['T 1&0 Th 0','T 1&0 Th 1','T 1&0 Th 2','Ta 1&0 Th 3'],x=[1,12,36,89],color='red',alpha=0.7,label='Target 0 Thal State')\n",
    "ax.legend(loc='lower right',frameon=True)\n",
    "ax.set(xlabel='Target State and Thal Counter',ylabel='Target State and Thal State',title='Target VS Thal')\n",
    "plt.xticks(rotation=90)\n",
    "plt.show()\n",
    "#so, there has been a very nice graphic display. This is the situation that best describes the situation."
   ]
  },
  {
   "cell_type": "markdown",
   "metadata": {
    "_uuid": "5cd78039d5d717491382660697a4fc589badc44e"
   },
   "source": [
    "<p id=11><h3>Target Analysis</h3></p>\n",
    "<p>We will analyze this feature for people who are sick or not.</p>"
   ]
  },
  {
   "cell_type": "code",
   "execution_count": null,
   "metadata": {
    "_uuid": "4c9986cd0a6fdc4f2cd3db1154ff5d80c6341f55"
   },
   "outputs": [],
   "source": [
    "data.Target.unique()\n",
    "#only two values are shown.\n",
    "#A value of 1 is the value of patient 0."
   ]
  },
  {
   "cell_type": "code",
   "execution_count": null,
   "metadata": {
    "_uuid": "f131d922620899cdd2bbf7066e9ad0bc13bc9a3f"
   },
   "outputs": [],
   "source": [
    "sns.countplot(data.Target)\n",
    "plt.xlabel('Target')\n",
    "plt.ylabel('Count')\n",
    "plt.title('Target Counter 1 & 0')\n",
    "plt.show()"
   ]
  },
  {
   "cell_type": "code",
   "execution_count": null,
   "metadata": {},
   "outputs": [],
   "source": [
    "sns.countplot(data.Target,hue=data.Sex)\n",
    "plt.xlabel('Target')\n",
    "plt.ylabel('Count')\n",
    "plt.title('Target & Sex Counter 1 & 0')\n",
    "plt.show()"
   ]
  },
  {
   "cell_type": "code",
   "execution_count": null,
   "metadata": {
    "_uuid": "2e46e420b2dc039a1db47fd343863ab65cc73c80"
   },
   "outputs": [],
   "source": [
    "#determine the age ranges of patients with and without sickness and make analyzes about them\n",
    "age_counter_target_1=[]\n",
    "age_counter_target_0=[]\n",
    "for age in data.Age.unique():\n",
    "    age_counter_target_1.append(len(data[(data['Age']==age)&(data.Target==1)]))\n",
    "    age_counter_target_0.append(len(data[(data['Age']==age)&(data.Target==0)]))\n",
    "\n",
    "#now, draw show on graph    "
   ]
  },
  {
   "cell_type": "code",
   "execution_count": null,
   "metadata": {
    "_uuid": "dc7a72c6c2b86035dcf46b26d12b7f28c215d224"
   },
   "outputs": [],
   "source": [
    "#Target 1 & 0 show graph on scatter\n",
    "plt.scatter(x=data.Age.unique(),y=age_counter_target_1,color='blue',label='Target 1')\n",
    "plt.scatter(x=data.Age.unique(),y=age_counter_target_0,color='red',label='Target 0')\n",
    "plt.legend(loc='upper right',frameon=True)\n",
    "plt.xlabel('Age')\n",
    "plt.ylabel('Count')\n",
    "plt.title('Target 0 & Target 1 State')\n",
    "plt.show()"
   ]
  },
  {
   "cell_type": "code",
   "execution_count": null,
   "metadata": {
    "_uuid": "6b65032b8fb288d5d1138c662900541c8b3c706c"
   },
   "outputs": [],
   "source": [
    "sns.lineplot(x=\"Sex\", y=\"Oldpeak\",\n",
    "             hue=\"Target\",data=data)\n",
    "plt.show()"
   ]
  },
  {
   "cell_type": "code",
   "execution_count": null,
   "metadata": {
    "_uuid": "a7c02192c54f72a7a2814cc7822bf9bdefa77ea5"
   },
   "outputs": [],
   "source": [
    "data.head()"
   ]
  },
  {
   "cell_type": "code",
   "execution_count": null,
   "metadata": {
    "_uuid": "71408bb5a5cf0d18cbf18eb35376e1d42415e272"
   },
   "outputs": [],
   "source": [
    "data.head()"
   ]
  },
  {
   "cell_type": "code",
   "execution_count": null,
   "metadata": {
    "_uuid": "9200b66d7c398e160ec5b0b1d4f8ae8e24060839"
   },
   "outputs": [],
   "source": [
    "g = sns.catplot(x=\"AgeRange\", y=\"Chol\",\n",
    "                 hue=\"Sex\",\n",
    "                 data=data, kind=\"bar\")\n",
    "plt.show()"
   ]
  },
  {
   "cell_type": "code",
   "execution_count": null,
   "metadata": {
    "_uuid": "e55220660b14d6f9ee84bc359af7c1e4c650f0f7"
   },
   "outputs": [],
   "source": [
    "ax = sns.barplot(\"Sex\", \"Chol\", data=data,\n",
    "                  linewidth=2.5, facecolor=(1, 1, 1, 0),\n",
    "                  errcolor=\".2\", edgecolor=\".2\")\n",
    "plt.show()"
   ]
  },
  {
   "cell_type": "code",
   "execution_count": null,
   "metadata": {
    "_uuid": "8a96492501e808f3452da0422fbe2633e4b3b3ed"
   },
   "outputs": [],
   "source": [
    "male_young_t_1=data[(data['Sex']==1)&(data['AgeRange']==0)&(data['Target']==1)]\n",
    "male_middle_t_1=data[(data['Sex']==1)&(data['AgeRange']==1)&(data['Target']==1)]\n",
    "male_elderly_t_1=data[(data['Sex']==1)&(data['AgeRange']==2)&(data['Target']==1)]\n",
    "print(len(male_young_t_1))\n",
    "print(len(male_middle_t_1))\n",
    "print(len(male_elderly_t_1))"
   ]
  },
  {
   "cell_type": "code",
   "execution_count": null,
   "metadata": {
    "_uuid": "186f7bf8f6778dd8f95740966c46bf3795883076"
   },
   "outputs": [],
   "source": [
    "f,ax1=plt.subplots(figsize=(20,10))\n",
    "sns.pointplot(x=np.arange(len(male_young_t_1)),y=male_young_t_1.Trestbps,color='lime',alpha=0.8,label='Young')\n",
    "sns.pointplot(x=np.arange(len(male_middle_t_1)),y=male_middle_t_1.Trestbps,color='black',alpha=0.8,label='Middle')\n",
    "sns.pointplot(x=np.arange(len(male_elderly_t_1)),y=male_elderly_t_1.Trestbps,color='red',alpha=0.8,label='Elderly')\n",
    "plt.xlabel('Range',fontsize = 15,color='blue')\n",
    "plt.xticks(rotation=90)\n",
    "plt.legend(loc='upper right',frameon=True)\n",
    "plt.ylabel('Trestbps',fontsize = 15,color='blue')\n",
    "plt.title('Age Range Values vs Trestbps',fontsize = 20,color='blue')\n",
    "plt.grid()\n",
    "plt.show()"
   ]
  },
  {
   "cell_type": "code",
   "execution_count": null,
   "metadata": {},
   "outputs": [],
   "source": [
    "data.head()"
   ]
  },
  {
   "cell_type": "code",
   "execution_count": null,
   "metadata": {},
   "outputs": [],
   "source": [
    "data_filter_mean=data[(data['Target']==1)&(data['Age']>50)].groupby('Sex')[['Trestbps','Chol','Thalach']].mean()"
   ]
  },
  {
   "cell_type": "code",
   "execution_count": null,
   "metadata": {},
   "outputs": [],
   "source": [
    "data_filter_mean.unstack()"
   ]
  },
  {
   "cell_type": "markdown",
   "metadata": {
    "_uuid": "1461bb0deedd954a0892d5857179930073de7e99"
   },
   "source": [
    "<p>It seems that old people have a very hard job because their values are very high.</p>"
   ]
  },
  {
   "cell_type": "code",
   "execution_count": null,
   "metadata": {
    "_uuid": "006e7cb8a6d0186e4d276b0f21e5cf9cbee20fc8"
   },
   "outputs": [],
   "source": [
    "for i,col in enumerate(data.columns.values):\n",
    "    plt.subplot(5,3,i+1)\n",
    "    plt.scatter([i for i in range(303)],data[col].values.tolist())\n",
    "    plt.title(col)\n",
    "    fig,ax=plt.gcf(),plt.gca()\n",
    "    fig.set_size_inches(10,10)\n",
    "    plt.tight_layout()\n",
    "plt.show()"
   ]
  },
  {
   "cell_type": "markdown",
   "metadata": {
    "_uuid": "8f8c26382970bf0af5e625fd1144ed1fcefb3daa"
   },
   "source": [
    "<p id='12'><h3>MODEL, TRAINING and TESTING</h3></p>\n",
    "<p>As a result of our initial evaluations, we have used a number of artificial learning algorithms. These are logistic regression, support vector machine (SVM), k close neighborhood (kNN), GradientBoostingClassifier and RandomForestClassifier algorithms. The first algorithm is logistic regression algorithm. To implement this algorithm model, we need to separate dependent and independent variables within our data sets. In addition, we created a combination of features between different features to make different experiments. While creating these parameters, the process of finding the best results was made by giving hyper parameter values.</p>"
   ]
  },
  {
   "cell_type": "markdown",
   "metadata": {
    "_uuid": "94d5bcdb16f74046cf5b5c050398819cba179c7a"
   },
   "source": [
    "<p>As is known, most of our data are categorized and not categorized only among certain feature values. We will perform scale operations to eliminate these situations. There are many scale operations for this. These are as follows.</p>\n",
    "<ul>\n",
    "    <li>Z-score</li>\n",
    "    <li>Normalization</li>\n",
    "</ul>"
   ]
  },
  {
   "cell_type": "markdown",
   "metadata": {
    "_uuid": "2753e8b869982fe59d55035f8b23ebfda89fd4cc"
   },
   "source": [
    "<p>In a data set, the data that are distant from each other are made to scale between each other by making a specific scaling. As a result of this operation, the data takes a value of 0.1. This may change in some scaling operations. Standard and Normalization scale will be used for our operation. There is a big change between the data obtained. Therefore, we need to use this method for SVM algorithm.</p>"
   ]
  },
  {
   "cell_type": "code",
   "execution_count": null,
   "metadata": {
    "_uuid": "089b6054de200ab27340b8d0ef7e49b0f6d1f35e"
   },
   "outputs": [],
   "source": [
    "#Let's see how the correlation values between them\n",
    "data.corr()"
   ]
  },
  {
   "cell_type": "markdown",
   "metadata": {
    "_uuid": "2cc33af92629b23bb0b5032dc32f5e96e91b6219"
   },
   "source": [
    "<p>All correlation values between the data are listed in the previous sections. As a result of this listing, it is aimed to ensure that these properties are used in different places by performing different operations. Thus, the p-value process determines a hypothesis and a hypothesis thesis is presented between each characteristic according to this hypothesis. In this process, after determining the Class property as hypothesis, the relations between all the other properties are checked. This results in a different number for each property. What is important here is that these numbers are not close to 1.00. If the number is close to 1.00 this is very bad.</p>"
   ]
  },
  {
   "cell_type": "markdown",
   "metadata": {
    "_uuid": "8413c6ff9b65695af7a72415071cecac8848f332"
   },
   "source": [
    "<p>We have shown the P-value. The purpose of this value is to see the integration values between our data. The scale methods that we will do for this situation will increase this situation even higher.</p>"
   ]
  },
  {
   "cell_type": "markdown",
   "metadata": {
    "_uuid": "81a1d008530aefd42e199190126727b1d65fd996"
   },
   "source": [
    "//resim z-score\n",
    "\n",
    "<ul>\n",
    "    <li>X is the incoming data.</li>\n",
    "    <li>μ is the average value.</li>\n",
    "    <li>The value of σ is the standard deviation.</li>\n",
    "</ul>\n",
    "\n",
    "//sigma resim\n",
    "\n",
    "<p>Theoretically, it is understood that there is no big difference between standard and normalization. But when it comes to advice and usage, standard scaling comes out with a big difference. The reason for this is that the parsing process between the data is better. In the normalization system, the largest and smallest values within a group of data are considered. All other data is normalized according to these values. The aim here is to normalize the smallest value to 0 and the maximum value to 1, and all other data is a value between 0-1.</p>\n",
    "\n",
    "//X normalization işlemi resim\n",
    "\n",
    "<p>Of course, we need to remove the target property when doing this.</p>"
   ]
  },
  {
   "cell_type": "code",
   "execution_count": null,
   "metadata": {
    "_uuid": "00c15f497ffbbc0d6667b40cf00abb15d3b8f75a"
   },
   "outputs": [],
   "source": [
    "dataX=data.drop('Target',axis=1)\n",
    "dataY=data['Target']"
   ]
  },
  {
   "cell_type": "code",
   "execution_count": null,
   "metadata": {
    "_uuid": "2fbdfdf27755db82d59d0996794fb4d00bd015fa"
   },
   "outputs": [],
   "source": [
    "X_train,X_test,y_train,y_test=train_test_split(dataX,dataY,test_size=0.2,random_state=42)"
   ]
  },
  {
   "cell_type": "code",
   "execution_count": null,
   "metadata": {
    "_uuid": "1451506add7786f010f960d602aead9ebec279a1"
   },
   "outputs": [],
   "source": [
    "print('X_train',X_train.shape)\n",
    "print('X_test',X_test.shape)\n",
    "print('y_train',y_train.shape)\n",
    "print('y_test',y_test.shape)"
   ]
  },
  {
   "cell_type": "markdown",
   "metadata": {
    "_uuid": "201538f84b97dfaa7b5649d8a9b5ee1a320fc469"
   },
   "source": [
    "<p><p>The difference in value between our data is too big. It increases both the volume and the results are very bad. To reduce this situation we need to use the StandardScaler function. A value of -1.1 will be obtained after using it.</p></p>"
   ]
  },
  {
   "cell_type": "code",
   "execution_count": null,
   "metadata": {
    "_uuid": "c557f7bf7e7bbf48cf3f1e223f295a6e3ba318bd"
   },
   "outputs": [],
   "source": [
    "#Normalization as the first process\n",
    "# Normalize\n",
    "X_train=(X_train-np.min(X_train))/(np.max(X_train)-np.min(X_train)).values\n",
    "X_test=(X_test-np.min(X_test))/(np.max(X_test)-np.min(X_test)).values"
   ]
  },
  {
   "cell_type": "markdown",
   "metadata": {
    "_uuid": "b3911739ca5ca5c2ea79523d3c78bfabb6fb3b50"
   },
   "source": [
    "<p>The diagonal values we see in these correlation values are always 1.0. That doesn't mean much to us. But the minus value is a big problem for me, but the value of the transactions are more valuable for us.</p>"
   ]
  },
  {
   "cell_type": "markdown",
   "metadata": {
    "_uuid": "13843fc11bf2fef2c24c8003ac988969ad4770f6"
   },
   "source": [
    "<p>Now it is time to implement PCA to the data set.</p>\n",
    "\n",
    "<p>But, before that, I will investigate the explained variance ratio and resulting principal components:</p>"
   ]
  },
  {
   "cell_type": "code",
   "execution_count": null,
   "metadata": {
    "_uuid": "3a5aba164fb12a0dda083ff4df2c211ecefeb22b"
   },
   "outputs": [],
   "source": [
    "from sklearn.decomposition import PCA\n",
    "pca=PCA().fit(X_train)\n",
    "print(pca.explained_variance_ratio_)\n",
    "print()\n",
    "print(X_train.columns.values.tolist())\n",
    "print(pca.components_)"
   ]
  },
  {
   "cell_type": "code",
   "execution_count": null,
   "metadata": {
    "_uuid": "7a9dafbcf867e4f43b444fbdf2ab677368d420d0"
   },
   "outputs": [],
   "source": [
    "cumulative=np.cumsum(pca.explained_variance_ratio_)\n",
    "plt.step([i for i in range(len(cumulative))],cumulative)\n",
    "plt.show()"
   ]
  },
  {
   "cell_type": "markdown",
   "metadata": {
    "_uuid": "f16c8ede18252a8bb1441ee2e923536fcdffc3db"
   },
   "source": [
    "<p>So, I will apply PCA to the data with number of components = 8.</p>\n",
    "\n",
    "<p>The reduced data can be seen on the plotting below.</p>"
   ]
  },
  {
   "cell_type": "code",
   "execution_count": null,
   "metadata": {
    "_uuid": "37830a1c31cc2b1ecc0da270e288a125ac24e898"
   },
   "outputs": [],
   "source": [
    "pca = PCA(n_components=8)\n",
    "pca.fit(X_train)\n",
    "reduced_data_train = pca.transform(X_train)\n",
    "#inverse_data = pca.inverse_transform(reduced_data)\n",
    "plt.scatter(reduced_data_train[:, 0], reduced_data_train[:, 1], label='reduced')\n",
    "plt.xlabel('First Principal Component')\n",
    "plt.ylabel('Second Principal Component')\n",
    "plt.show()"
   ]
  },
  {
   "cell_type": "code",
   "execution_count": null,
   "metadata": {
    "_uuid": "5edc550216189b986b20008740f2038c6398c812"
   },
   "outputs": [],
   "source": [
    "pca = PCA(n_components=8)\n",
    "pca.fit(X_test)\n",
    "reduced_data_test = pca.transform(X_test)\n",
    "#inverse_data = pca.inverse_transform(reduced_data)\n",
    "plt.scatter(reduced_data_test[:, 0], reduced_data_test[:, 1], label='reduced')\n",
    "plt.xlabel('First Principal Component')\n",
    "plt.ylabel('Second Principal Component')\n",
    "plt.show()"
   ]
  },
  {
   "cell_type": "markdown",
   "metadata": {
    "_uuid": "44a8f23b7c4115ea99f1decc494ebc4d81506871"
   },
   "source": [
    "<p>According to the principal components, data points with greater values on the x-axis represent the customers that are less likely to spend to Detergents_Paper category.</p>\n",
    "\n",
    "<p>Likewise, data points with greater values on the y-axis represent the customers that are less likely to spend to Fresh and Frozen categories.</p>\n",
    "\n",
    "<p>Now, I can constitute a DataFrame out of my reduced data with two dimensions:</p>"
   ]
  },
  {
   "cell_type": "code",
   "execution_count": null,
   "metadata": {
    "_uuid": "6db840f5183e124bb9b44df6b50582615ed25000"
   },
   "outputs": [],
   "source": [
    "reduced_data_train = pd.DataFrame(reduced_data_train, columns=['Dim1', 'Dim2','Dim3','Dim4','Dim5','Dim6','Dim7','Dim8'])\n",
    "reduced_data_test = pd.DataFrame(reduced_data_test, columns=['Dim1', 'Dim2','Dim3','Dim4','Dim5','Dim6','Dim7','Dim8'])\n",
    "X_train=reduced_data_train\n",
    "X_test=reduced_data_test"
   ]
  },
  {
   "cell_type": "code",
   "execution_count": null,
   "metadata": {
    "_uuid": "ddc4ea91189ebb1d9e93cfe72bb7a144b9006422"
   },
   "outputs": [],
   "source": [
    "def plot_roc_(false_positive_rate,true_positive_rate,roc_auc):\n",
    "    plt.figure(figsize=(5,5))\n",
    "    plt.title('Receiver Operating Characteristic')\n",
    "    plt.plot(false_positive_rate,true_positive_rate, color='red',label = 'AUC = %0.2f' % roc_auc)\n",
    "    plt.legend(loc = 'lower right')\n",
    "    plt.plot([0, 1], [0, 1],linestyle='--')\n",
    "    plt.axis('tight')\n",
    "    plt.ylabel('True Positive Rate')\n",
    "    plt.xlabel('False Positive Rate')\n",
    "    plt.show()\n",
    "    \n",
    "def plot_feature_importances(gbm):\n",
    "    n_features = X_train.shape[1]\n",
    "    plt.barh(range(n_features), gbm.feature_importances_, align='center')\n",
    "    plt.yticks(np.arange(n_features), X_train.columns)\n",
    "    plt.xlabel(\"Feature importance\")\n",
    "    plt.ylabel(\"Feature\")\n",
    "    plt.ylim(-1, n_features)"
   ]
  },
  {
   "cell_type": "code",
   "execution_count": null,
   "metadata": {
    "_uuid": "259859b66640d1b07710bd3c0ab81226ae79cbc3"
   },
   "outputs": [],
   "source": [
    "combine_features_list=[\n",
    "    ('Dim1','Dim2','Dim3'),\n",
    "    ('Dim4','Dim5','Dim5','Dim6'),\n",
    "    ('Dim7','Dim8','Dim1'),\n",
    "    ('Dim4','Dim8','Dim5')\n",
    "]"
   ]
  },
  {
   "cell_type": "markdown",
   "metadata": {
    "_uuid": "4e9d1fff7ea070057dafbf05b49cb9a808797b01"
   },
   "source": [
    "<p id='13'><h1>Logistic Regression</h1></p>\n",
    "<p>First we need parameters to use our data more effectively. Hyperthermatic technique was used for this condition. This technique is used to express different features in the process.</p>"
   ]
  },
  {
   "cell_type": "code",
   "execution_count": null,
   "metadata": {
    "_uuid": "46e3cd144a1b7a5d2361ef1bf10e03201a1f8397"
   },
   "outputs": [],
   "source": [
    "parameters=[\n",
    "{\n",
    "    'penalty':['l1','l2'],\n",
    "    'C':[0.1,0.4,0.5],\n",
    "    'random_state':[0]\n",
    "    },\n",
    "]\n",
    "\n",
    "for features in combine_features_list:\n",
    "    print(features)\n",
    "    print(\"*\"*50)\n",
    "    \n",
    "    X_train_set=X_train.loc[:,features]\n",
    "    X_test_set=X_test.loc[:,features]\n",
    "    \n",
    "    gslog=GridSearchCV(LogisticRegression(),parameters,scoring='accuracy')\n",
    "    gslog.fit(X_train_set,y_train)\n",
    "    print('Best parameters set:')\n",
    "    print(gslog.best_params_)\n",
    "    print()\n",
    "    predictions=[\n",
    "    (gslog.predict(X_train_set),y_train,'Train'),\n",
    "    (gslog.predict(X_test_set),y_test,'Test'),\n",
    "    ]\n",
    "    \n",
    "    for pred in predictions:\n",
    "        print(pred[2] + ' Classification Report:')\n",
    "        print(\"*\"*50)\n",
    "        print(classification_report(pred[1],pred[0]))\n",
    "        print(\"*\"*50)\n",
    "        print(pred[2] + ' Confusion Matrix:')\n",
    "        print(confusion_matrix(pred[1], pred[0]))\n",
    "        print(\"*\"*50)\n",
    "\n",
    "    print(\"*\"*50)    \n",
    "    basari=cross_val_score(estimator=LogisticRegression(),X=X_train,y=y_train,cv=12)\n",
    "    print(basari.mean())\n",
    "    print(basari.std())\n",
    "    print(\"*\"*50) \n",
    "   "
   ]
  },
  {
   "cell_type": "code",
   "execution_count": null,
   "metadata": {
    "_uuid": "64171cd96a0aff5c39007551d98c5c8e5ad2dc2e"
   },
   "outputs": [],
   "source": [
    "from sklearn.linear_model import LogisticRegression\n",
    "\n",
    "lr=LogisticRegression(C=0.1,penalty='l1',random_state=0)\n",
    "lr.fit(X_train,y_train)\n",
    "\n",
    "y_pred=lr.predict(X_test)\n",
    "\n",
    "\n",
    "y_proba=lr.predict_proba(X_test)\n",
    "\n",
    "false_positive_rate, true_positive_rate, thresholds = roc_curve(y_test,y_proba[:,1])\n",
    "roc_auc = auc(false_positive_rate, true_positive_rate)\n",
    "plot_roc_(false_positive_rate,true_positive_rate,roc_auc)\n",
    "\n",
    "\n",
    "from sklearn.metrics import r2_score,accuracy_score\n",
    "\n",
    "#print('Hata Oranı :',r2_score(y_test,y_pred))\n",
    "print('Accurancy Oranı :',accuracy_score(y_test, y_pred))\n",
    "print(\"Logistic TRAIN score with \",format(lr.score(X_train, y_train)))\n",
    "print(\"Logistic TEST score with \",format(lr.score(X_test, y_test)))\n",
    "print()\n",
    "\n",
    "cm=confusion_matrix(y_test,y_pred)\n",
    "print(cm)\n",
    "sns.heatmap(cm,annot=True)\n",
    "plt.show()"
   ]
  },
  {
   "cell_type": "code",
   "execution_count": null,
   "metadata": {},
   "outputs": [],
   "source": [
    "print('CoEf:\\n')\n",
    "print(lr.coef_)\n",
    "print('Intercept_\\n')\n",
    "print(lr.intercept_)\n",
    "print('Proba:\\n')\n",
    "print(lr.predict_log_proba)"
   ]
  },
  {
   "cell_type": "markdown",
   "metadata": {
    "_uuid": "a7e1aa217eb885f40fd491554bb3e53715adeda8"
   },
   "source": [
    "<p id='14'> <h1>K-Nearest Neighbors</h1></p>"
   ]
  },
  {
   "cell_type": "code",
   "execution_count": null,
   "metadata": {
    "_uuid": "c5ef1bbb04fcd1868194d1a2f38c5c86c6f3d470"
   },
   "outputs": [],
   "source": [
    "parameters=[\n",
    "{\n",
    "    'n_neighbors':np.arange(2,33),\n",
    "    'n_jobs':[2,6]\n",
    "    },\n",
    "]\n",
    "print(\"*\"*50)\n",
    "for features in combine_features_list:\n",
    "    print(\"*\"*50)\n",
    "    \n",
    "    X_train_set=X_train.loc[:,features]\n",
    "    X_test_set=X_test.loc[:,features]\n",
    "   \n",
    "    gsknn=GridSearchCV(KNeighborsClassifier(),parameters,scoring='accuracy')\n",
    "    gsknn.fit(X_train_set,y_train)\n",
    "    print('Best parameters set:')\n",
    "    print(gsknn.best_params_)\n",
    "    print(\"*\"*50)\n",
    "    predictions = [\n",
    "    (gsknn.predict(X_train_set), y_train, 'Train'),\n",
    "    (gsknn.predict(X_test_set), y_test, 'Test1')\n",
    "    ]\n",
    "    for pred in predictions:\n",
    "        print(pred[2] + ' Classification Report:')\n",
    "        print(\"*\"*50)\n",
    "        print(classification_report(pred[1], pred[0]))\n",
    "        print(\"*\"*50)\n",
    "        print(pred[2] + ' Confusion Matrix:')\n",
    "        print(confusion_matrix(pred[1], pred[0]))\n",
    "        print(\"*\"*50)\n",
    "        \n",
    "    print(\"*\"*50)    \n",
    "    basari=cross_val_score(estimator=KNeighborsClassifier(),X=X_train,y=y_train,cv=12)\n",
    "    print(basari.mean())\n",
    "    print(basari.std())\n",
    "    print(\"*\"*50)"
   ]
  },
  {
   "cell_type": "code",
   "execution_count": null,
   "metadata": {
    "_uuid": "3983a37468530b2449fd3ac1c2f0fc8149a872a2"
   },
   "outputs": [],
   "source": [
    "knn=KNeighborsClassifier(n_jobs=2, n_neighbors=22)\n",
    "knn.fit(X_train,y_train)\n",
    "\n",
    "y_pred=knn.predict(X_test)\n",
    "\n",
    "y_proba=knn.predict_proba(X_test)\n",
    "false_positive_rate, true_positive_rate, thresholds = roc_curve(y_test,y_proba[:,1])\n",
    "roc_auc = auc(false_positive_rate, true_positive_rate)\n",
    "plot_roc_(false_positive_rate,true_positive_rate,roc_auc)\n",
    "\n",
    "from sklearn.metrics import r2_score,accuracy_score\n",
    "\n",
    "print('Accurancy Oranı :',accuracy_score(y_test, y_pred))\n",
    "print(\"KNN TRAIN score with \",format(knn.score(X_train, y_train)))\n",
    "print(\"KNN TEST score with \",format(knn.score(X_test, y_test)))\n",
    "print()\n",
    "\n",
    "cm=confusion_matrix(y_test,y_pred)\n",
    "print(cm)\n",
    "sns.heatmap(cm,annot=True)\n",
    "plt.show()"
   ]
  },
  {
   "cell_type": "code",
   "execution_count": null,
   "metadata": {
    "_uuid": "1fb7d4f1eba81ed723da26ad4c6fa342e3b6153d"
   },
   "outputs": [],
   "source": [
    "n_neighbors = range(1, 17)\n",
    "train_data_accuracy = []\n",
    "test1_data_accuracy = []\n",
    "for n_neigh in n_neighbors:\n",
    "    knn = KNeighborsClassifier(n_neighbors=n_neigh,n_jobs=5)\n",
    "    knn.fit(X_train, y_train)\n",
    "    train_data_accuracy.append(knn.score(X_train, y_train))\n",
    "    test1_data_accuracy.append(knn.score(X_test, y_test))\n",
    "plt.plot(n_neighbors, train_data_accuracy, label=\"Train Data Set\")\n",
    "plt.plot(n_neighbors, test1_data_accuracy, label=\"Test1 Data Set\")\n",
    "plt.ylabel(\"Accuracy\")\n",
    "plt.xlabel(\"Neighbors\")\n",
    "plt.legend()\n",
    "plt.show()"
   ]
  },
  {
   "cell_type": "code",
   "execution_count": null,
   "metadata": {
    "_uuid": "6a2b252a3cc42a98026d80ee0488bc5657ff10fa"
   },
   "outputs": [],
   "source": [
    "n_neighbors = range(1, 17)\n",
    "k_scores=[]\n",
    "for n_neigh in n_neighbors:\n",
    "    knn = KNeighborsClassifier(n_neighbors=n_neigh,n_jobs=5)\n",
    "    scores=cross_val_score(estimator=knn,X=X_train,y=y_train,cv=12)\n",
    "    k_scores.append(scores.mean())\n",
    "print(k_scores)"
   ]
  },
  {
   "cell_type": "code",
   "execution_count": null,
   "metadata": {
    "_uuid": "4b8828b705738d6835372b64d2546f8e85d3d253"
   },
   "outputs": [],
   "source": [
    "plt.plot(n_neighbors,k_scores)\n",
    "plt.xlabel('Value of k for KNN')\n",
    "plt.ylabel(\"Cross-Validated Accurancy\")\n",
    "plt.show()"
   ]
  },
  {
   "cell_type": "code",
   "execution_count": null,
   "metadata": {},
   "outputs": [],
   "source": [
    "print('Leaf Size :',knn.leaf_size)\n",
    "print('Metric :',knn.metric_params)\n",
    "print('Radius :',knn.radius)\n",
    "print('Weights :',knn.weights)\n",
    "print('Algorithms :',knn.algorithm)"
   ]
  },
  {
   "cell_type": "markdown",
   "metadata": {
    "_uuid": "a612b2bdd7e13c44420e5ef505dc42b7ad3b59ac"
   },
   "source": [
    "<p id='15'><h1>Naive Baes</h1></p>"
   ]
  },
  {
   "cell_type": "code",
   "execution_count": null,
   "metadata": {
    "_uuid": "113e245bf04dc66dad8c575f2b0319046c780af5"
   },
   "outputs": [],
   "source": [
    "parameters = [\n",
    "    {\n",
    "        'kernel': ['linear'],\n",
    "        'random_state': [2]\n",
    "    },\n",
    "    {\n",
    "        'kernel': ['rbf'],\n",
    "        'gamma':[0.9,0.06,0.3],\n",
    "        'random_state': [0],\n",
    "        'C':[1,2,3,4,5,6],\n",
    "        'degree':[2],\n",
    "        'probability':[True]\n",
    "    },\n",
    "]\n",
    "\n",
    "for features in combine_features_list:\n",
    "    print(\"*\"*50)\n",
    "    X_train_set=X_train.loc[:,features]\n",
    "    X_test_set=X_test.loc[:,features]\n",
    "  \n",
    "    svc = GridSearchCV(SVC(), parameters,\n",
    "    scoring='accuracy')\n",
    "    svc.fit(X_train_set, y_train)\n",
    "    print('Best parameters set:')\n",
    "    print(svc.best_params_)\n",
    "    print(\"*\"*50)\n",
    "    predictions = [\n",
    "    (svc.predict(X_train_set), y_train, 'Train'),\n",
    "    (svc.predict(X_test_set), y_test, 'Test1')\n",
    "    ]\n",
    "    for pred in predictions:\n",
    "        print(pred[2] + ' Classification Report:')\n",
    "        print(\"*\"*50)\n",
    "        print(classification_report(pred[1], pred[0]))\n",
    "        print(\"*\"*50)\n",
    "        print(pred[2] + ' Confusion Matrix:')\n",
    "        print(confusion_matrix(pred[1], pred[0]))\n",
    "        print(\"*\"*50)\n",
    "        \n",
    "    print(\"*\"*50)    \n",
    "    basari=cross_val_score(estimator=SVC(),X=X_train,y=y_train,cv=4)\n",
    "    print(basari.mean())\n",
    "    print(basari.std())\n",
    "    print(\"*\"*50)"
   ]
  },
  {
   "cell_type": "code",
   "execution_count": null,
   "metadata": {
    "_uuid": "23372730aae11df2dc4f05daa251a9ca3176f215"
   },
   "outputs": [],
   "source": [
    "svc=SVC(C=5,degree=2,gamma=0.06,kernel='rbf',probability=True,random_state=0)\n",
    "svc.fit(X_train,y_train)\n",
    "\n",
    "y_pred=svc.predict(X_test)\n",
    "\n",
    "y_proba=svc.predict_proba(X_test)\n",
    "false_positive_rate, true_positive_rate, thresholds = roc_curve(y_test,y_proba[:,1])\n",
    "roc_auc = auc(false_positive_rate, true_positive_rate)\n",
    "plot_roc_(false_positive_rate,true_positive_rate,roc_auc)\n",
    "\n",
    "from sklearn.metrics import r2_score,accuracy_score\n",
    "\n",
    "print('Accurancy Oranı :',accuracy_score(y_test, y_pred))\n",
    "print(\"SVC TRAIN score with \",format(svc.score(X_train, y_train)))\n",
    "print(\"SVC TEST score with \",format(svc.score(X_test, y_test)))\n",
    "print()\n",
    "\n",
    "cm=confusion_matrix(y_test,y_pred)\n",
    "print(cm)\n",
    "sns.heatmap(cm,annot=True)\n",
    "plt.show()"
   ]
  },
  {
   "cell_type": "code",
   "execution_count": null,
   "metadata": {},
   "outputs": [],
   "source": [
    "print('Coef :',svc.coef0)\n",
    "print('Dual Coef_',svc.dual_coef_)\n",
    "print('Fit Status :',svc.fit_status_)\n",
    "print('Gamma :',svc.gamma)\n",
    "print('Kernel :',svc.kernel)\n",
    "print('SV :',svc.support_vectors_)\n",
    "print('Probablity :',svc.probability)\n"
   ]
  },
  {
   "cell_type": "markdown",
   "metadata": {
    "_uuid": "c4be00c3dd9083bae8a75a6946fdaa4704dcfb29"
   },
   "source": [
    "<p id='16'><h1>Gradient Boosting Machine</h1></p>"
   ]
  },
  {
   "cell_type": "code",
   "execution_count": null,
   "metadata": {
    "_uuid": "3ff1a2ba2835240f3c2d3be55f066f7228dde952"
   },
   "outputs": [],
   "source": [
    "parameters = [\n",
    "{\n",
    "    'learning_rate': [0.01, 0.02, 0.002],\n",
    "    'random_state': [0],\n",
    "    'n_estimators': np.arange(3, 20)\n",
    "    },\n",
    "]\n",
    "for features in combine_features_list:\n",
    "    print(\"*\"*50)\n",
    "    X_train_set=X_train.loc[:,features]\n",
    "    X_test1_set=X_test.loc[:,features]\n",
    "   \n",
    "    gbc = GridSearchCV(GradientBoostingClassifier(), parameters, scoring='accuracy')\n",
    "    gbc.fit(X_train_set, y_train)\n",
    "    print('Best parameters set:')\n",
    "    print(gbc.best_params_)\n",
    "    print(\"*\"*50)\n",
    "    predictions = [\n",
    "    (gbc.predict(X_train_set), y_train, 'Train'),\n",
    "    (gbc.predict(X_test1_set), y_test, 'Test1')\n",
    "    ]\n",
    "    for pred in predictions:\n",
    "        print(pred[2] + ' Classification Report:')\n",
    "        print(\"*\"*50)\n",
    "        print(classification_report(pred[1], pred[0]))\n",
    "        print(\"*\"*50)\n",
    "        print(pred[2] + ' Confusion Matrix:')\n",
    "        print(confusion_matrix(pred[1], pred[0]))\n",
    "        print(\"*\"*50)\n",
    "        \n",
    "    print(\"*\"*50)    \n",
    "    basari=cross_val_score(estimator=GradientBoostingClassifier(),X=X_train,y=y_train,cv=4)\n",
    "    print(basari.mean())\n",
    "    print(basari.std())\n",
    "    print(\"*\"*50)"
   ]
  },
  {
   "cell_type": "code",
   "execution_count": null,
   "metadata": {
    "_uuid": "e8d00ebf586c3a7f8a5568328c2ccd5f5f44ba86"
   },
   "outputs": [],
   "source": [
    "gbc=GradientBoostingClassifier(learning_rate=0.02,n_estimators=18,random_state=0)\n",
    "gbc.fit(X_train,y_train)\n",
    "\n",
    "y_pred=gbc.predict(X_test)\n",
    "\n",
    "y_proba=gbc.predict_proba(X_test)\n",
    "false_positive_rate, true_positive_rate, thresholds = roc_curve(y_test,y_proba[:,1])\n",
    "roc_auc = auc(false_positive_rate, true_positive_rate)\n",
    "plot_roc_(false_positive_rate,true_positive_rate,roc_auc)\n",
    "\n",
    "from sklearn.metrics import r2_score,accuracy_score\n",
    "\n",
    "print('Accurancy Oranı :',accuracy_score(y_test, y_pred))\n",
    "print(\"GradientBoostingClassifier TRAIN score with \",format(gbc.score(X_train, y_train)))\n",
    "print(\"GradientBoostingClassifier TEST score with \",format(gbc.score(X_test, y_test)))\n",
    "print()\n",
    "\n",
    "cm=confusion_matrix(y_test,y_pred)\n",
    "print(cm)\n",
    "sns.heatmap(cm,annot=True)\n",
    "plt.show()"
   ]
  },
  {
   "cell_type": "code",
   "execution_count": null,
   "metadata": {
    "_uuid": "db8f5629995186d91e5c69b72f88eafe05dc46d6"
   },
   "outputs": [],
   "source": [
    "plot_feature_importances(gbc)\n",
    "plt.show()"
   ]
  },
  {
   "cell_type": "markdown",
   "metadata": {
    "_uuid": "50596400bc02ac90f3567307723c3d600d5b99bd"
   },
   "source": [
    "<p id='17'> <h1>Random Forest</h1></p>\t"
   ]
  },
  {
   "cell_type": "code",
   "execution_count": null,
   "metadata": {
    "_uuid": "ac08454bcfc4fc31b2a03909d9f226d5a3ee16b2"
   },
   "outputs": [],
   "source": [
    "parameters = [\n",
    "    {\n",
    "        'max_depth': np.arange(1, 10),\n",
    "        'min_samples_split': np.arange(2, 5),\n",
    "        'random_state': [3],\n",
    "        'n_estimators': np.arange(10, 20)\n",
    "    },\n",
    "]\n",
    "\n",
    "for features in combine_features_list:\n",
    "    print(\"*\"*50)\n",
    "    \n",
    "    X_train_set=X_train.loc[:,features]\n",
    "    X_test1_set=X_test.loc[:,features]\n",
    "    \n",
    "    tree=GridSearchCV(RandomForestClassifier(),parameters,scoring='accuracy')\n",
    "    tree.fit(X_train_set, y_train)\n",
    "    \n",
    "    print('Best parameters set:')\n",
    "    print(tree.best_params_)\n",
    "    print(\"*\"*50)\n",
    "    predictions = [\n",
    "        (tree.predict(X_train_set), y_train, 'Train'),\n",
    "        (tree.predict(X_test1_set), y_test, 'Test1')\n",
    "    ]\n",
    "    \n",
    "    for pred in predictions:\n",
    "        \n",
    "        print(pred[2] + ' Classification Report:')\n",
    "        print(\"*\"*50)\n",
    "        print(classification_report(pred[1], pred[0]))\n",
    "        print(\"*\"*50)\n",
    "        print(pred[2] + ' Confusion Matrix:')\n",
    "        print(confusion_matrix(pred[1], pred[0]))\n",
    "        print(\"*\"*50)\n",
    "    \n",
    "    print(\"*\"*50)    \n",
    "    basari=cross_val_score(estimator=RandomForestClassifier(),X=X_train,y=y_train,cv=4)\n",
    "    print(basari.mean())\n",
    "    print(basari.std())\n",
    "    print(\"*\"*50)"
   ]
  },
  {
   "cell_type": "code",
   "execution_count": null,
   "metadata": {
    "_uuid": "09c349ee610991a28b062caec6b0848e58173486"
   },
   "outputs": [],
   "source": [
    "rfc=RandomForestClassifier(max_depth=7,min_samples_split=4,n_estimators=19,random_state=3)\n",
    "rfc.fit(X_train,y_train)\n",
    "\n",
    "y_pred=rfc.predict(X_test)\n",
    "\n",
    "y_proba=rfc.predict_proba(X_test)\n",
    "false_positive_rate, true_positive_rate, thresholds = roc_curve(y_test,y_proba[:,1])\n",
    "roc_auc = auc(false_positive_rate, true_positive_rate)\n",
    "plot_roc_(false_positive_rate,true_positive_rate,roc_auc)\n",
    "\n",
    "from sklearn.metrics import r2_score,accuracy_score\n",
    "print('Accurancy Oranı :',accuracy_score(y_test, y_pred))\n",
    "print(\"RandomForestClassifier TRAIN score with \",format(rfc.score(X_train, y_train)))\n",
    "print(\"RandomForestClassifier TEST score with \",format(rfc.score(X_test, y_test)))\n",
    "print()\n",
    "\n",
    "cm=confusion_matrix(y_test,y_pred)\n",
    "print(cm)\n",
    "sns.heatmap(cm,annot=True)\n",
    "plt.show()"
   ]
  },
  {
   "cell_type": "code",
   "execution_count": null,
   "metadata": {
    "_uuid": "7a448762f3bd335f6ef9f45c2435bdd0b2152e5a"
   },
   "outputs": [],
   "source": [
    "for i in range(1,11):\n",
    "    rf = RandomForestClassifier(n_estimators=i, random_state = 3, max_depth=7)\n",
    "    rf.fit(X_train, y_train)\n",
    "    print(\"TEST set score w/ \" +str(i)+\" estimators: {:.5}\".format(rf.score(X_test, y_test)))"
   ]
  },
  {
   "cell_type": "code",
   "execution_count": null,
   "metadata": {
    "_uuid": "2427155f188ca9e162e2a8291d05305a8b311cf9"
   },
   "outputs": [],
   "source": [
    "plot_feature_importances(rf)\n",
    "plt.show()"
   ]
  },
  {
   "cell_type": "markdown",
   "metadata": {
    "_uuid": "ed110f13273221763ef9b4ee5e7328ff71ddfec5"
   },
   "source": [
    "<p id='18'><h1>Decision Tree</h1>\t</p>"
   ]
  },
  {
   "cell_type": "code",
   "execution_count": null,
   "metadata": {
    "_uuid": "e46221d5779bb595fb00bcdce22dae59d65213ac"
   },
   "outputs": [],
   "source": [
    "parameters = [\n",
    "{\n",
    "    'random_state': [42],\n",
    "    },\n",
    "]\n",
    "for features in combine_features_list:\n",
    "    print(\"*\"*50)\n",
    "    X_train_set=X_train.loc[:,features]\n",
    "    X_test1_set=X_test.loc[:,features]\n",
    "    \n",
    "    dtr = GridSearchCV(DecisionTreeClassifier(), parameters, scoring='accuracy')\n",
    "    \n",
    "    dtr.fit(X_train_set, y_train)\n",
    "    print('Best parameters set:')\n",
    "    print(dtr.best_params_)\n",
    "    print(\"*\"*50)\n",
    "    predictions = [\n",
    "    (dtr.predict(X_train_set), y_train, 'Train'),\n",
    "    (dtr.predict(X_test1_set), y_test, 'Test1')\n",
    "    ]\n",
    "    for pred in predictions:\n",
    "        print(pred[2] + ' Classification Report:')\n",
    "        print(\"*\"*50)\n",
    "        print(classification_report(pred[1], pred[0]))\n",
    "        print(\"*\"*50)\n",
    "        print(pred[2] + ' Confusion Matrix:')\n",
    "        print(confusion_matrix(pred[1], pred[0]))\n",
    "        print(\"*\"*50)\n",
    "        \n",
    "    print(\"*\"*50)    \n",
    "    basari=cross_val_score(estimator=DecisionTreeClassifier(),X=X_train,y=y_train,cv=4)\n",
    "    print(basari.mean())\n",
    "    print(basari.std())\n",
    "    print(\"*\"*50)  "
   ]
  },
  {
   "cell_type": "markdown",
   "metadata": {
    "_uuid": "3d9ae67aff1321d46c6c844019996a106e7798ff"
   },
   "source": [
    "<p id='19'><h1>Kernelized SVM</h1></p>"
   ]
  },
  {
   "cell_type": "code",
   "execution_count": null,
   "metadata": {
    "_uuid": "eb1998a1ad282dafeb493b1418373e11f57debfb"
   },
   "outputs": [],
   "source": [
    "parameters = [\n",
    "{\n",
    "    'random_state': [42],\n",
    "    },\n",
    "]\n",
    "for features in combine_features_list:\n",
    "    print(\"*\"*50)\n",
    "    X_train_set=X_train.loc[:,features]\n",
    "    X_test1_set=X_test.loc[:,features]\n",
    "    \n",
    "    dtr = GridSearchCV(SVC(), parameters, scoring='accuracy')\n",
    "    \n",
    "    dtr.fit(X_train_set, y_train)\n",
    "    print('Best parameters set:')\n",
    "    print(dtr.best_params_)\n",
    "    print(\"*\"*50)\n",
    "    predictions = [\n",
    "    (dtr.predict(X_train_set), y_train, 'Train'),\n",
    "    (dtr.predict(X_test1_set), y_test, 'Test1')\n",
    "    ]\n",
    "    for pred in predictions:\n",
    "        print(pred[2] + ' Classification Report:')\n",
    "        print(\"*\"*50)\n",
    "        print(classification_report(pred[1], pred[0]))\n",
    "        print(\"*\"*50)\n",
    "        print(pred[2] + ' Confusion Matrix:')\n",
    "        print(confusion_matrix(pred[1], pred[0]))\n",
    "        print(\"*\"*50)\n",
    "        \n",
    "    print(\"*\"*50)    \n",
    "    basari=cross_val_score(estimator=SVC(),X=X_train,y=y_train,cv=4)\n",
    "    print(basari.mean())\n",
    "    print(basari.std())\n",
    "    print(\"*\"*50)  "
   ]
  },
  {
   "cell_type": "markdown",
   "metadata": {},
   "source": [
    "<p id='20'><h3><b>References</b></h3></p>\n",
    "<p>https://www.kaggle.com/spscientist/students-performance-in-exams</p>\n",
    "<p>https://seaborn.pydata.org/</p>\n",
    "<p>https://www.kaggle.com/kanncaa1/seaborn-tutorial-for-beginners</p>\n",
    "<p>https://www.kaggle.com/biphili/seaborn-plot-to-visualize-iris-data</p>\n",
    "<p>https://www.kaggle.com/kralmachine/seaborn-tutorial-for-beginners</p>"
   ]
  },
  {
   "cell_type": "markdown",
   "metadata": {},
   "source": [
    "<p id='21'><h3><b>Conclusion</b></h3></p>\n",
    "<p>As a result, we have explained the seaborn library in a very detailed way and created a wide variety of graphs. If you like it, I expect your support. If you like <b>UPVOTED</b> I would be very happy if you do. If you have any questions, I am ready to answer your questions. At the bottom there are the kernel values that I have already done.</p>\n",
    "<p>https://www.kaggle.com/kralmachine/data-visualization-of-suicide-rates</p>\n",
    "<p>https://www.kaggle.com/kralmachine/gradient-admission-eda-ml-0-92</p>\n",
    "<p>https://www.kaggle.com/kralmachine/football-results-from-1872-to-2018-datavisulation</p>\n",
    "<p>https://www.kaggle.com/kralmachine/pandas-tutorial-for-beginner</p>\n",
    "<p>https://www.kaggle.com/kralmachine/visual-analysis-of-world-happiness-in-2015</p>"
   ]
  }
 ],
 "metadata": {
  "kernelspec": {
   "display_name": "Python 3",
   "language": "python",
   "name": "python3"
  },
  "language_info": {
   "codemirror_mode": {
    "name": "ipython",
    "version": 3
   },
   "file_extension": ".py",
   "mimetype": "text/x-python",
   "name": "python",
   "nbconvert_exporter": "python",
   "pygments_lexer": "ipython3",
   "version": "3.8.6"
  }
 },
 "nbformat": 4,
 "nbformat_minor": 1
}
