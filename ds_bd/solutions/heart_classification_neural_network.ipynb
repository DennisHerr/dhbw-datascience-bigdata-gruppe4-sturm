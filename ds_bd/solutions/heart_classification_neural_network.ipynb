{
 "cells": [
  {
   "cell_type": "code",
   "execution_count": 18,
   "metadata": {},
   "outputs": [],
   "source": [
    "from pyspark.sql.types import BooleanType\n",
    "from pyspark.ml.feature import StringIndexer, VectorAssembler\n",
    "from pyspark.ml.classification import LinearSVC\n",
    "from pyspark.sql.session import SparkSession\n",
    "from pyspark.sql.functions import expr\n",
    "from pyspark.ml.evaluation import BinaryClassificationEvaluator\n",
    "from helpers.helper_functions import translate_to_file_string\n",
    "from pyspark.sql import DataFrameReader\n",
    "from pyspark.sql import SparkSession\n",
    "from pyspark.ml.feature import IndexToString, Normalizer, StringIndexer, VectorAssembler, VectorIndexer, StandardScaler\n",
    "from pyspark.ml.evaluation import BinaryClassificationEvaluator\n",
    "from pyspark.ml.classification import DecisionTreeClassifier\n",
    "from pyspark.ml.classification import RandomForestClassifier\n",
    "from pyspark.ml.evaluation import MulticlassClassificationEvaluator\n",
    "from pyspark.ml.classification import MultilayerPerceptronClassificationModel, MultilayerPerceptronClassifier\n",
    "from pyspark.ml.evaluation import RegressionEvaluator\n",
    "from pyspark.ml.tuning import CrossValidator, ParamGridBuilder\n",
    "from pyspark.ml import Pipeline\n",
    "from helpers.helper_functions import translate_to_file_string\n",
    "from pyspark.ml.classification import MultilayerPerceptronClassificationModel, MultilayerPerceptronClassifier\n",
    "from sklearn.metrics import roc_curve, auc\n",
    "import seaborn as sns\n",
    "import pandas as pd\n",
    "import os\n",
    "import warnings\n",
    "import matplotlib.pyplot as plt\n",
    "warnings.filterwarnings('ignore')"
   ]
  },
  {
   "cell_type": "code",
   "execution_count": 19,
   "metadata": {},
   "outputs": [],
   "source": [
    "inputFile = translate_to_file_string(\"../data/heart_val.csv\")"
   ]
  },
  {
   "cell_type": "code",
   "execution_count": 20,
   "metadata": {},
   "outputs": [],
   "source": [
    "spark = (SparkSession\n",
    "       .builder\n",
    "       .appName(\"HeartDiseaseAnalNeuralNw\")\n",
    "       .getOrCreate())"
   ]
  },
  {
   "cell_type": "code",
   "execution_count": 21,
   "metadata": {},
   "outputs": [],
   "source": [
    "# load data file.\n",
    "# create a DataFrame using an ifered Schema \n",
    "df = spark.read.option(\"header\", \"true\") \\\n",
    "       .option(\"inferSchema\", \"true\") \\\n",
    "       .option(\"delimiter\", \";\") \\\n",
    "       .csv(inputFile)\n"
   ]
  },
  {
   "cell_type": "code",
   "execution_count": 22,
   "metadata": {},
   "outputs": [],
   "source": [
    "#transform labels\n",
    "labelIndexer = StringIndexer().setInputCol(\"target\").setOutputCol(\"label\").fit(df)\n",
    "sexIndexer = StringIndexer().setInputCol(\"sex\").setOutputCol(\"sex_num\").fit(df)"
   ]
  },
  {
   "cell_type": "code",
   "execution_count": 23,
   "metadata": {},
   "outputs": [],
   "source": [
    "#feature columns for evaluation\n",
    "featureCols = df.columns.copy()\n",
    "featureCols.remove(\"target\")\n",
    "featureCols.remove(\"sex\")\n",
    "featureCols = featureCols + [\"sex_num\"]"
   ]
  },
  {
   "cell_type": "code",
   "execution_count": 24,
   "metadata": {},
   "outputs": [],
   "source": [
    "#create vector assembler of feature columns\n",
    "assembler =  VectorAssembler(outputCol=\"features\", inputCols=featureCols)"
   ]
  },
  {
   "cell_type": "code",
   "execution_count": 25,
   "metadata": {},
   "outputs": [],
   "source": [
    "#Build feauture Indexer \n",
    "featureIndexer = VectorIndexer(inputCol=\"features\",outputCol=\"indexedFeatures\", maxCategories=6)"
   ]
  },
  {
   "cell_type": "code",
   "execution_count": 26,
   "metadata": {},
   "outputs": [],
   "source": [
    "#Create scaler for scaled output\n",
    "scaler = StandardScaler(inputCol=\"features\", outputCol=\"scaledFeatures\",\n",
    "                        withStd=True, withMean=False)"
   ]
  },
  {
   "cell_type": "code",
   "execution_count": 27,
   "metadata": {},
   "outputs": [],
   "source": [
    "#Convert Indexed labels back to original labels\n",
    "predConverter = IndexToString(inputCol=\"prediction\",outputCol=\"predictedLabel\",labels=labelIndexer.labels)"
   ]
  },
  {
   "cell_type": "code",
   "execution_count": 28,
   "metadata": {},
   "outputs": [],
   "source": [
    "#create Classifier \n",
    "nn = MultilayerPerceptronClassifier(seed=1234, featuresCol=\"scaledFeatures\")\n",
    "   \n",
    "# build network parameters grid\n",
    "\t\t\n",
    "\n",
    "paramGrid =  ParamGridBuilder().addGrid(nn.layers, [[ len(featureCols), 10, 5, 2 ]]) \\\n",
    "\t\t\t\t.addGrid(nn.blockSize,  [128 ]) \\\n",
    "                .addGrid(nn.maxIter,[ 100, 1000, 5000 ] )\\\n",
    "\t\t\t\t.addGrid(nn.stepSize, [0.003, 0.03, 0.3 ])\\\n",
    "\t\t\t\t.addGrid(nn.tol, [ 0.05, 0.1, 0.2 ]) \\\n",
    "\t\t\t\t.build()"
   ]
  },
  {
   "cell_type": "code",
   "execution_count": 29,
   "metadata": {},
   "outputs": [],
   "source": [
    "#split data for etsting\n",
    "\n",
    "splits = df.randomSplit([0.7, 0.3 ], 5433)\n",
    "train = splits[0]\n",
    "test = splits[1]"
   ]
  },
  {
   "cell_type": "code",
   "execution_count": 30,
   "metadata": {},
   "outputs": [],
   "source": [
    "#Pipelining of all steps \n",
    "pipeline = Pipeline(stages= [labelIndexer,sexIndexer,  assembler, featureIndexer, scaler, nn , predConverter])"
   ]
  },
  {
   "cell_type": "code",
   "execution_count": 32,
   "metadata": {},
   "outputs": [],
   "source": [
    "#build evaluator \n",
    "evaluator =  BinaryClassificationEvaluator(labelCol=\"label\",rawPredictionCol=\"rawPrediction\", metricName=\"areaUnderROC\")"
   ]
  },
  {
   "cell_type": "code",
   "execution_count": 33,
   "metadata": {},
   "outputs": [],
   "source": [
    "#Cross validator\n",
    "cv = CrossValidator(estimator=pipeline, evaluator=evaluator,estimatorParamMaps=paramGrid,numFolds=10, parallelism=2)"
   ]
  },
  {
   "cell_type": "code",
   "execution_count": 34,
   "metadata": {},
   "outputs": [],
   "source": [
    "#train model\n",
    "nwModel = cv.fit(train)"
   ]
  },
  {
   "cell_type": "code",
   "execution_count": 35,
   "metadata": {},
   "outputs": [
    {
     "name": "stdout",
     "output_type": "stream",
     "text": [
      "Layers:  MultilayerPerceptronClassifier_b844c5104df1__layers\n",
      "blockSize: block size for stacking input data in matrices. Data is stacked within partitions. If block size is more than remaining data in a partition then it is adjusted to the size of this data. (default: 128, current: 128)\n",
      "featuresCol: features column name. (default: features, current: scaledFeatures)\n",
      "initialWeights: The initial weights of the model. (undefined)\n",
      "labelCol: label column name. (default: label)\n",
      "layers: Sizes of layers from input layer to output layer E.g., Array(780, 100, 10) means 780 inputs, one hidden layer with 100 neurons and output layer of 10 neurons. (current: [13, 10, 5, 2])\n",
      "maxIter: max number of iterations (>= 0). (default: 100, current: 100)\n",
      "predictionCol: prediction column name. (default: prediction)\n",
      "probabilityCol: Column name for predicted class conditional probabilities. Note: Not all models output well-calibrated probability estimates! These probabilities should be treated as confidences, not precise probabilities. (default: probability)\n",
      "rawPredictionCol: raw prediction (a.k.a. confidence) column name. (default: rawPrediction)\n",
      "seed: random seed. (default: -3151049751922601847, current: 1234)\n",
      "solver: The solver algorithm for optimization. Supported options: l-bfgs, gd. (default: l-bfgs)\n",
      "stepSize: Step size to be used for each iteration of optimization (>= 0). (default: 0.03, current: 0.003)\n",
      "thresholds: Thresholds in multi-class classification to adjust the probability of predicting each class. Array must have length equal to the number of classes, with values > 0, excepting that at most one value may be 0. The class with largest value p/t is predicted, where p is the original probability of that class and t is the class's threshold. (undefined)\n",
      "tol: the convergence tolerance for iterative algorithms (>= 0). (default: 1e-06, current: 0.05)\n",
      "+---+---+---+--------+----+---+-------+-------+-----+-------+-----+---+----+------+-----+-------+--------------------+--------------------+--------------------+--------------------+--------------------+----------+--------------+\n",
      "|age|sex| cp|trestbps|chol|fbs|restecg|thalach|exang|oldpeak|slope| ca|thal|target|label|sex_num|            features|     indexedFeatures|      scaledFeatures|       rawPrediction|         probability|prediction|predictedLabel|\n",
      "+---+---+---+--------+----+---+-------+-------+-----+-------+-----+---+----+------+-----+-------+--------------------+--------------------+--------------------+--------------------+--------------------+----------+--------------+\n",
      "| 35|  f|  0|     138| 183|  0|      1|    182|    0|    1.4|    2|  0|   2|     y|  0.0|    1.0|[35.0,0.0,138.0,1...|[35.0,0.0,138.0,1...|[3.90265392446968...|[0.75600387078402...|[0.56268825971894...|       0.0|             y|\n",
      "| 35|  m|  0|     120| 198|  0|      1|    130|    1|    1.6|    1|  0|   3|     n|  1.0|    0.0|[35.0,0.0,120.0,1...|[35.0,0.0,120.0,1...|[3.90265392446968...|[0.80397153514321...|[0.56223118838589...|       0.0|             y|\n",
      "| 35|  m|  1|     122| 192|  0|      1|    174|    0|    0.0|    2|  0|   2|     y|  0.0|    0.0|[35.0,1.0,122.0,1...|[35.0,1.0,122.0,1...|[3.90265392446968...|[0.77422147463516...|[0.56210469355355...|       0.0|             y|\n",
      "| 40|  m|  0|     152| 223|  0|      1|    181|    0|    0.0|    2|  0|   3|     n|  1.0|    0.0|(13,[0,2,3,5,6,9,...|(13,[0,2,3,5,6,9,...|(13,[0,2,3,5,6,9,...|[0.76989833218852...|[0.56344962222457...|       0.0|             y|\n",
      "| 41|  f|  2|     112| 268|  0|      0|    172|    1|    0.0|    2|  0|   2|     y|  0.0|    1.0|[41.0,2.0,112.0,2...|[41.0,2.0,112.0,2...|[4.57168031152162...|[0.83698058803820...|[0.56443458710346...|       0.0|             y|\n",
      "| 42|  m|  0|     136| 315|  0|      1|    125|    1|    1.8|    1|  0|   1|     n|  1.0|    0.0|[42.0,0.0,136.0,3...|[42.0,0.0,136.0,3...|[4.68318470936361...|[0.84205018979597...|[0.56503943757065...|       0.0|             y|\n",
      "| 44|  m|  0|     110| 197|  0|      0|    177|    0|    0.0|    2|  1|   2|     n|  1.0|    0.0|(13,[0,2,3,6,9,10...|(13,[0,2,3,6,9,10...|(13,[0,2,3,6,9,10...|[0.80015998461802...|[0.56499295072504...|       0.0|             y|\n",
      "| 44|  m|  0|     112| 290|  0|      0|    153|    0|    0.0|    2|  1|   2|     n|  1.0|    0.0|(13,[0,2,3,6,9,10...|(13,[0,2,3,6,9,10...|(13,[0,2,3,6,9,10...|[0.81689851934968...|[0.56619207987703...|       0.0|             y|\n",
      "| 44|  m|  1|     130| 219|  0|      0|    188|    0|    0.0|    2|  0|   2|     y|  0.0|    0.0|(13,[0,1,2,3,6,9,...|(13,[0,1,2,3,6,9,...|(13,[0,1,2,3,6,9,...|[0.80024768624755...|[0.56575376098334...|       0.0|             y|\n",
      "| 44|  m|  2|     140| 235|  0|      0|    180|    0|    0.0|    2|  0|   2|     y|  0.0|    0.0|(13,[0,1,2,3,6,9,...|(13,[0,1,2,3,6,9,...|(13,[0,1,2,3,6,9,...|[0.79893682105947...|[0.56589432516363...|       0.0|             y|\n",
      "| 45|  m|  0|     142| 309|  0|      0|    147|    1|    0.0|    1|  3|   3|     n|  1.0|    0.0|[45.0,0.0,142.0,3...|[45.0,0.0,142.0,3...|[5.01769790288959...|[0.81345684063538...|[0.56450352631033...|       0.0|             y|\n",
      "| 45|  m|  1|     128| 308|  0|      0|    170|    0|    0.0|    2|  0|   2|     y|  0.0|    0.0|(13,[0,1,2,3,6,9,...|(13,[0,1,2,3,6,9,...|(13,[0,1,2,3,6,9,...|[0.81499673822548...|[0.56651269547490...|       0.0|             y|\n",
      "| 46|  f|  2|     142| 177|  0|      0|    160|    1|    1.4|    0|  0|   2|     y|  0.0|    1.0|[46.0,2.0,142.0,1...|[46.0,2.0,142.0,1...|[5.12920230073158...|[0.73399915218625...|[0.55942737551260...|       0.0|             y|\n",
      "| 46|  m|  0|     120| 249|  0|      0|    144|    0|    0.8|    2|  0|   3|     n|  1.0|    0.0|(13,[0,2,3,6,8,9,...|(13,[0,2,3,6,8,9,...|(13,[0,2,3,6,8,9,...|[0.81677825679023...|[0.56632178808091...|       0.0|             y|\n",
      "| 46|  m|  1|     101| 197|  1|      1|    156|    0|    0.0|    2|  0|   3|     y|  0.0|    0.0|[46.0,1.0,101.0,1...|[46.0,1.0,101.0,1...|[5.12920230073158...|[0.73580666727620...|[0.56117191633421...|       0.0|             y|\n",
      "| 46|  m|  2|     150| 231|  0|      1|    147|    0|    3.6|    1|  0|   2|     n|  1.0|    0.0|[46.0,2.0,150.0,2...|[46.0,2.0,150.0,2...|[5.12920230073158...|[0.79225281477384...|[0.56592138619937...|       0.0|             y|\n",
      "| 47|  m|  2|     130| 253|  0|      1|    179|    0|    0.0|    2|  0|   2|     y|  0.0|    0.0|[47.0,2.0,130.0,2...|[47.0,2.0,130.0,2...|[5.24070669857357...|[0.79279580045762...|[0.56421452354560...|       0.0|             y|\n",
      "| 48|  f|  2|     130| 275|  0|      1|    139|    0|    0.2|    2|  0|   2|     y|  0.0|    1.0|[48.0,2.0,130.0,2...|[48.0,2.0,130.0,2...|[5.35221109641556...|[0.78935461046518...|[0.56323778540989...|       0.0|             y|\n",
      "| 49|  f|  1|     134| 271|  0|      1|    162|    0|    0.0|    1|  0|   2|     y|  0.0|    1.0|[49.0,1.0,134.0,2...|[49.0,1.0,134.0,2...|[5.46371549425755...|[0.73064126606378...|[0.56003367652533...|       0.0|             y|\n",
      "| 49|  m|  2|     120| 188|  0|      1|    139|    0|    2.0|    1|  3|   3|     n|  1.0|    0.0|[49.0,2.0,120.0,1...|[49.0,2.0,120.0,1...|[5.46371549425755...|[0.77175989062351...|[0.56062631843779...|       0.0|             y|\n",
      "+---+---+---+--------+----+---+-------+-------+-----+-------+-----+---+----+------+-----+-------+--------------------+--------------------+--------------------+--------------------+--------------------+----------+--------------+\n",
      "only showing top 20 rows\n",
      "\n",
      "Test Error =  0.3524970963995354\n"
     ]
    }
   ],
   "source": [
    "#Find out the best model\n",
    "bestModel = nwModel.bestModel.stages[5]\n",
    "print(\"Layers: \" , bestModel.layers)\n",
    "print(bestModel.explainParams())"
   ]
  },
  {
   "cell_type": "code",
   "execution_count": 36,
   "metadata": {},
   "outputs": [
    {
     "name": "stdout",
     "output_type": "stream",
     "text": [
      "+---+---+---+--------+----+---+-------+-------+-----+-------+-----+---+----+------+-----+-------+--------------------+--------------------+--------------------+--------------------+--------------------+----------+--------------+\n",
      "|age|sex| cp|trestbps|chol|fbs|restecg|thalach|exang|oldpeak|slope| ca|thal|target|label|sex_num|            features|     indexedFeatures|      scaledFeatures|       rawPrediction|         probability|prediction|predictedLabel|\n",
      "+---+---+---+--------+----+---+-------+-------+-----+-------+-----+---+----+------+-----+-------+--------------------+--------------------+--------------------+--------------------+--------------------+----------+--------------+\n",
      "| 35|  f|  0|     138| 183|  0|      1|    182|    0|    1.4|    2|  0|   2|     y|  0.0|    1.0|[35.0,0.0,138.0,1...|[35.0,0.0,138.0,1...|[3.90265392446968...|[0.75600387078402...|[0.56268825971894...|       0.0|             y|\n",
      "| 35|  m|  0|     120| 198|  0|      1|    130|    1|    1.6|    1|  0|   3|     n|  1.0|    0.0|[35.0,0.0,120.0,1...|[35.0,0.0,120.0,1...|[3.90265392446968...|[0.80397153514321...|[0.56223118838589...|       0.0|             y|\n",
      "| 35|  m|  1|     122| 192|  0|      1|    174|    0|    0.0|    2|  0|   2|     y|  0.0|    0.0|[35.0,1.0,122.0,1...|[35.0,1.0,122.0,1...|[3.90265392446968...|[0.77422147463516...|[0.56210469355355...|       0.0|             y|\n",
      "| 40|  m|  0|     152| 223|  0|      1|    181|    0|    0.0|    2|  0|   3|     n|  1.0|    0.0|(13,[0,2,3,5,6,9,...|(13,[0,2,3,5,6,9,...|(13,[0,2,3,5,6,9,...|[0.76989833218852...|[0.56344962222457...|       0.0|             y|\n",
      "| 41|  f|  2|     112| 268|  0|      0|    172|    1|    0.0|    2|  0|   2|     y|  0.0|    1.0|[41.0,2.0,112.0,2...|[41.0,2.0,112.0,2...|[4.57168031152162...|[0.83698058803820...|[0.56443458710346...|       0.0|             y|\n",
      "| 42|  m|  0|     136| 315|  0|      1|    125|    1|    1.8|    1|  0|   1|     n|  1.0|    0.0|[42.0,0.0,136.0,3...|[42.0,0.0,136.0,3...|[4.68318470936361...|[0.84205018979597...|[0.56503943757065...|       0.0|             y|\n",
      "| 44|  m|  0|     110| 197|  0|      0|    177|    0|    0.0|    2|  1|   2|     n|  1.0|    0.0|(13,[0,2,3,6,9,10...|(13,[0,2,3,6,9,10...|(13,[0,2,3,6,9,10...|[0.80015998461802...|[0.56499295072504...|       0.0|             y|\n",
      "| 44|  m|  0|     112| 290|  0|      0|    153|    0|    0.0|    2|  1|   2|     n|  1.0|    0.0|(13,[0,2,3,6,9,10...|(13,[0,2,3,6,9,10...|(13,[0,2,3,6,9,10...|[0.81689851934968...|[0.56619207987703...|       0.0|             y|\n",
      "| 44|  m|  1|     130| 219|  0|      0|    188|    0|    0.0|    2|  0|   2|     y|  0.0|    0.0|(13,[0,1,2,3,6,9,...|(13,[0,1,2,3,6,9,...|(13,[0,1,2,3,6,9,...|[0.80024768624755...|[0.56575376098334...|       0.0|             y|\n",
      "| 44|  m|  2|     140| 235|  0|      0|    180|    0|    0.0|    2|  0|   2|     y|  0.0|    0.0|(13,[0,1,2,3,6,9,...|(13,[0,1,2,3,6,9,...|(13,[0,1,2,3,6,9,...|[0.79893682105947...|[0.56589432516363...|       0.0|             y|\n",
      "| 45|  m|  0|     142| 309|  0|      0|    147|    1|    0.0|    1|  3|   3|     n|  1.0|    0.0|[45.0,0.0,142.0,3...|[45.0,0.0,142.0,3...|[5.01769790288959...|[0.81345684063538...|[0.56450352631033...|       0.0|             y|\n",
      "| 45|  m|  1|     128| 308|  0|      0|    170|    0|    0.0|    2|  0|   2|     y|  0.0|    0.0|(13,[0,1,2,3,6,9,...|(13,[0,1,2,3,6,9,...|(13,[0,1,2,3,6,9,...|[0.81499673822548...|[0.56651269547490...|       0.0|             y|\n",
      "| 46|  f|  2|     142| 177|  0|      0|    160|    1|    1.4|    0|  0|   2|     y|  0.0|    1.0|[46.0,2.0,142.0,1...|[46.0,2.0,142.0,1...|[5.12920230073158...|[0.73399915218625...|[0.55942737551260...|       0.0|             y|\n",
      "| 46|  m|  0|     120| 249|  0|      0|    144|    0|    0.8|    2|  0|   3|     n|  1.0|    0.0|(13,[0,2,3,6,8,9,...|(13,[0,2,3,6,8,9,...|(13,[0,2,3,6,8,9,...|[0.81677825679023...|[0.56632178808091...|       0.0|             y|\n",
      "| 46|  m|  1|     101| 197|  1|      1|    156|    0|    0.0|    2|  0|   3|     y|  0.0|    0.0|[46.0,1.0,101.0,1...|[46.0,1.0,101.0,1...|[5.12920230073158...|[0.73580666727620...|[0.56117191633421...|       0.0|             y|\n",
      "| 46|  m|  2|     150| 231|  0|      1|    147|    0|    3.6|    1|  0|   2|     n|  1.0|    0.0|[46.0,2.0,150.0,2...|[46.0,2.0,150.0,2...|[5.12920230073158...|[0.79225281477384...|[0.56592138619937...|       0.0|             y|\n",
      "| 47|  m|  2|     130| 253|  0|      1|    179|    0|    0.0|    2|  0|   2|     y|  0.0|    0.0|[47.0,2.0,130.0,2...|[47.0,2.0,130.0,2...|[5.24070669857357...|[0.79279580045762...|[0.56421452354560...|       0.0|             y|\n",
      "| 48|  f|  2|     130| 275|  0|      1|    139|    0|    0.2|    2|  0|   2|     y|  0.0|    1.0|[48.0,2.0,130.0,2...|[48.0,2.0,130.0,2...|[5.35221109641556...|[0.78935461046518...|[0.56323778540989...|       0.0|             y|\n",
      "| 49|  f|  1|     134| 271|  0|      1|    162|    0|    0.0|    1|  0|   2|     y|  0.0|    1.0|[49.0,1.0,134.0,2...|[49.0,1.0,134.0,2...|[5.46371549425755...|[0.73064126606378...|[0.56003367652533...|       0.0|             y|\n",
      "| 49|  m|  2|     120| 188|  0|      1|    139|    0|    2.0|    1|  3|   3|     n|  1.0|    0.0|[49.0,2.0,120.0,1...|[49.0,2.0,120.0,1...|[5.46371549425755...|[0.77175989062351...|[0.56062631843779...|       0.0|             y|\n",
      "+---+---+---+--------+----+---+-------+-------+-----+-------+-----+---+----+------+-----+-------+--------------------+--------------------+--------------------+--------------------+--------------------+----------+--------------+\n",
      "only showing top 20 rows\n",
      "\n"
     ]
    }
   ],
   "source": [
    "#test model\n",
    "predictions = nwModel.transform(test)\n",
    "predictions.show()"
   ]
  },
  {
   "cell_type": "code",
   "execution_count": 37,
   "metadata": {},
   "outputs": [
    {
     "name": "stdout",
     "output_type": "stream",
     "text": [
      "Test Error =  0.3524970963995354\n"
     ]
    }
   ],
   "source": [
    "accuracy = evaluator.evaluate(predictions)\n",
    "print(\"Test Error = \" ,(1.0 - accuracy))"
   ]
  },
  {
   "cell_type": "code",
   "execution_count": 38,
   "metadata": {},
   "outputs": [],
   "source": [
    "spark.stop()"
   ]
  }
 ],
 "metadata": {
  "kernelspec": {
   "display_name": "Python 3",
   "language": "python",
   "name": "python3"
  },
  "language_info": {
   "codemirror_mode": {
    "name": "ipython",
    "version": 3
   },
   "file_extension": ".py",
   "mimetype": "text/x-python",
   "name": "python",
   "nbconvert_exporter": "python",
   "pygments_lexer": "ipython3",
   "version": "3.8.6"
  }
 },
 "nbformat": 4,
 "nbformat_minor": 4
}
