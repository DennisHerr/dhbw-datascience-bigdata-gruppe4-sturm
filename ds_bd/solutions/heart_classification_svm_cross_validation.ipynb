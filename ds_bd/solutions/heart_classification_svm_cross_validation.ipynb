{
 "cells": [
  {
   "cell_type": "code",
   "execution_count": 1,
   "metadata": {},
   "outputs": [],
   "source": [
    "from pyspark.sql.types import BooleanType\n",
    "from pyspark.ml.feature import StringIndexer, VectorAssembler\n",
    "from pyspark.ml.classification import LinearSVC\n",
    "from pyspark.sql.session import SparkSession\n",
    "from pyspark.sql.functions import expr\n",
    "from pyspark.ml.evaluation import BinaryClassificationEvaluator\n",
    "from helpers.helper_functions import translate_to_file_string\n",
    "from pyspark.sql import DataFrameReader\n",
    "from pyspark.sql import SparkSession\n",
    "from pyspark.ml.feature import IndexToString, Normalizer, StringIndexer, VectorAssembler, VectorIndexer\n",
    "from pyspark.ml.evaluation import BinaryClassificationEvaluator\n",
    "from pyspark.ml.classification import DecisionTreeClassifier\n",
    "from pyspark.ml.tuning import CrossValidator, ParamGridBuilder\n",
    "from pyspark.ml import Pipeline\n",
    "from helpers.helper_functions import translate_to_file_string\n",
    "from pyspark.mllib.evaluation import MulticlassMetrics\n",
    "from sklearn.metrics import roc_curve, auc\n",
    "import seaborn as sns\n",
    "import pandas as pd\n",
    "import os\n",
    "import warnings\n",
    "import matplotlib.pyplot as plt\n",
    "warnings.filterwarnings('ignore')"
   ]
  },
  {
   "cell_type": "code",
   "execution_count": 2,
   "metadata": {},
   "outputs": [],
   "source": [
    "inputFile = translate_to_file_string(\"../data/heart_val.csv\")"
   ]
  },
  {
   "cell_type": "code",
   "execution_count": 3,
   "metadata": {},
   "outputs": [],
   "source": [
    "spark = (SparkSession\n",
    "       .builder\n",
    "       .appName(\"HeartDiseaseAnalSVM\")\n",
    "       .getOrCreate())"
   ]
  },
  {
   "cell_type": "code",
   "execution_count": 4,
   "metadata": {},
   "outputs": [
    {
     "name": "stdout",
     "output_type": "stream",
     "text": [
      "root\n",
      " |-- age: integer (nullable = true)\n",
      " |-- sex: string (nullable = true)\n",
      " |-- cp: integer (nullable = true)\n",
      " |-- trestbps: integer (nullable = true)\n",
      " |-- chol: integer (nullable = true)\n",
      " |-- fbs: integer (nullable = true)\n",
      " |-- restecg: integer (nullable = true)\n",
      " |-- thalach: integer (nullable = true)\n",
      " |-- exang: integer (nullable = true)\n",
      " |-- oldpeak: double (nullable = true)\n",
      " |-- slope: integer (nullable = true)\n",
      " |-- ca: integer (nullable = true)\n",
      " |-- thal: integer (nullable = true)\n",
      " |-- target: string (nullable = true)\n",
      "\n",
      "None\n"
     ]
    }
   ],
   "source": [
    "# load data file.\n",
    "# create a DataFrame using an ifered Schema \n",
    "df = spark.read.option(\"header\", \"true\") \\\n",
    "       .option(\"inferSchema\", \"true\") \\\n",
    "       .option(\"delimiter\", \";\") \\\n",
    "       .csv(inputFile)\n",
    "print(df.printSchema())\n",
    "\n",
    "#Pandas df for visualization\n",
    "dfp = df.toPandas()"
   ]
  },
  {
   "cell_type": "code",
   "execution_count": 5,
   "metadata": {},
   "outputs": [],
   "source": [
    "#transform labels\n",
    "labelIndexer = StringIndexer().setInputCol(\"target\").setOutputCol(\"label\").fit(df)\n",
    "sexIndexer = StringIndexer().setInputCol(\"sex\").setOutputCol(\"sex_num\").fit(df)"
   ]
  },
  {
   "cell_type": "code",
   "execution_count": 6,
   "metadata": {},
   "outputs": [],
   "source": [
    "#feature columns\n",
    "featureCols = df.columns.copy()\n",
    "featureCols.remove(\"target\")\n",
    "featureCols.remove(\"sex\")\n",
    "featureCols = featureCols + [\"sex_num\"]"
   ]
  },
  {
   "cell_type": "code",
   "execution_count": 7,
   "metadata": {},
   "outputs": [],
   "source": [
    "#vector assembler\n",
    "assembler =  VectorAssembler(outputCol=\"features\", inputCols=list(featureCols))"
   ]
  },
  {
   "cell_type": "code",
   "execution_count": 8,
   "metadata": {},
   "outputs": [],
   "source": [
    "#Build feauture Indexer \n",
    "featureIndexer = VectorIndexer(inputCol=\"features\",outputCol=\"indexedFeatures\", maxCategories=6)"
   ]
  },
  {
   "cell_type": "code",
   "execution_count": 9,
   "metadata": {},
   "outputs": [],
   "source": [
    "#Convert Indexed labels back to original labels\n",
    "predConverter = IndexToString(inputCol=\"prediction\",outputCol=\"predictedLabel\",labels=labelIndexer.labels)"
   ]
  },
  {
   "cell_type": "code",
   "execution_count": 10,
   "metadata": {},
   "outputs": [],
   "source": [
    "lsvc = LinearSVC(labelCol=\"label\",aggregationDepth=2, featuresCol=\"features\" )"
   ]
  },
  {
   "cell_type": "code",
   "execution_count": 11,
   "metadata": {},
   "outputs": [],
   "source": [
    "# build a Parameter Grip for testing\n",
    "paramGrid = ParamGridBuilder().addGrid(lsvc.maxIter, [100])\\\n",
    "                                 .addGrid(lsvc.regParam, [0.1, 0.001, 0.0001]) \\\n",
    "                                 .addGrid(lsvc.standardization, [True, False]) \\\n",
    "                                 .build()"
   ]
  },
  {
   "cell_type": "code",
   "execution_count": 12,
   "metadata": {},
   "outputs": [],
   "source": [
    "#split data for testing\n",
    "\n",
    "splits = df.randomSplit([0.8, 0.2 ], 1234)\n",
    "train = splits[0]\n",
    "test = splits[1]"
   ]
  },
  {
   "cell_type": "code",
   "execution_count": 13,
   "metadata": {},
   "outputs": [],
   "source": [
    "#Pipelining of all steps \n",
    "pipeline = Pipeline(stages= [labelIndexer,sexIndexer,  assembler, featureIndexer, lsvc , predConverter])"
   ]
  },
  {
   "cell_type": "code",
   "execution_count": 15,
   "metadata": {},
   "outputs": [],
   "source": [
    "#build evaluator \n",
    "evaluator =  BinaryClassificationEvaluator(labelCol=\"label\",rawPredictionCol=\"rawPrediction\", metricName=\"areaUnderROC\")"
   ]
  },
  {
   "cell_type": "code",
   "execution_count": 16,
   "metadata": {},
   "outputs": [],
   "source": [
    "#Cross validator\n",
    "cvSVM = CrossValidator(estimator=pipeline, evaluator=evaluator,estimatorParamMaps=paramGrid,numFolds=5, parallelism=4)"
   ]
  },
  {
   "cell_type": "code",
   "execution_count": 17,
   "metadata": {},
   "outputs": [],
   "source": [
    "#train model\n",
    "cvSVMModel = cvSVM.fit(train)"
   ]
  },
  {
   "cell_type": "code",
   "execution_count": 18,
   "metadata": {},
   "outputs": [
    {
     "name": "stdout",
     "output_type": "stream",
     "text": [
      "Best Params: \n",
      " aggregationDepth: suggested depth for treeAggregate (>= 2). (default: 2, current: 2)\n",
      "featuresCol: features column name. (default: features, current: features)\n",
      "fitIntercept: whether to fit an intercept term. (default: True)\n",
      "labelCol: label column name. (default: label, current: label)\n",
      "maxIter: max number of iterations (>= 0). (default: 100, current: 100)\n",
      "predictionCol: prediction column name. (default: prediction)\n",
      "rawPredictionCol: raw prediction (a.k.a. confidence) column name. (default: rawPrediction)\n",
      "regParam: regularization parameter (>= 0). (default: 0.0, current: 0.1)\n",
      "standardization: whether to standardize the training features before fitting the model. (default: True, current: True)\n",
      "threshold: The threshold in binary classification applied to the linear model prediction.  This threshold can be any real number, where Inf will make all predictions 0.0 and -Inf will make all predictions 1.0. (default: 0.0)\n",
      "tol: the convergence tolerance for iterative algorithms (>= 0). (default: 1e-06)\n",
      "weightCol: weight column name. If this is not set or empty, we treat all instance weights as 1.0. (undefined)\n",
      "Param Map: \n",
      " {Param(parent='LinearSVC_e7ca3d79b100', name='aggregationDepth', doc='suggested depth for treeAggregate (>= 2).'): 2, Param(parent='LinearSVC_e7ca3d79b100', name='featuresCol', doc='features column name.'): 'features', Param(parent='LinearSVC_e7ca3d79b100', name='fitIntercept', doc='whether to fit an intercept term.'): True, Param(parent='LinearSVC_e7ca3d79b100', name='labelCol', doc='label column name.'): 'label', Param(parent='LinearSVC_e7ca3d79b100', name='maxIter', doc='max number of iterations (>= 0).'): 100, Param(parent='LinearSVC_e7ca3d79b100', name='predictionCol', doc='prediction column name.'): 'prediction', Param(parent='LinearSVC_e7ca3d79b100', name='rawPredictionCol', doc='raw prediction (a.k.a. confidence) column name.'): 'rawPrediction', Param(parent='LinearSVC_e7ca3d79b100', name='regParam', doc='regularization parameter (>= 0).'): 0.1, Param(parent='LinearSVC_e7ca3d79b100', name='standardization', doc='whether to standardize the training features before fitting the model.'): True, Param(parent='LinearSVC_e7ca3d79b100', name='threshold', doc='The threshold in binary classification applied to the linear model prediction.  This threshold can be any real number, where Inf will make all predictions 0.0 and -Inf will make all predictions 1.0.'): 0.0, Param(parent='LinearSVC_e7ca3d79b100', name='tol', doc='the convergence tolerance for iterative algorithms (>= 0).'): 1e-06}\n"
     ]
    }
   ],
   "source": [
    "#Find out the best model\n",
    "linearSVCModel = cvSVMModel.bestModel.stages[4] # the stage at index 4 in the pipeline is the SVMModel\n",
    "print(\"Best Params: \\n\", linearSVCModel.explainParams())\n",
    "print(\"Param Map: \\n\", linearSVCModel.extractParamMap())"
   ]
  },
  {
   "cell_type": "code",
   "execution_count": 19,
   "metadata": {},
   "outputs": [
    {
     "name": "stdout",
     "output_type": "stream",
     "text": [
      "+---+---+---+--------+----+---+-------+-------+-----+-------+-----+---+----+------+-----+-------+--------------------+--------------------+--------------------+----------+--------------+\n",
      "|age|sex| cp|trestbps|chol|fbs|restecg|thalach|exang|oldpeak|slope| ca|thal|target|label|sex_num|            features|     indexedFeatures|       rawPrediction|prediction|predictedLabel|\n",
      "+---+---+---+--------+----+---+-------+-------+-----+-------+-----+---+----+------+-----+-------+--------------------+--------------------+--------------------+----------+--------------+\n",
      "| 34|  f|  1|     118| 210|  0|      1|    192|    0|    0.7|    2|  0|   2|     y|  0.0|    1.0|[34.0,1.0,118.0,2...|[34.0,1.0,118.0,2...|[2.30823258493557...|       0.0|             y|\n",
      "| 35|  m|  0|     120| 198|  0|      1|    130|    1|    1.6|    1|  0|   3|     n|  1.0|    0.0|[35.0,0.0,120.0,1...|[35.0,0.0,120.0,1...|[-1.1022514592139...|       1.0|             n|\n",
      "| 41|  f|  1|     130| 204|  0|      0|    172|    0|    1.4|    2|  0|   2|     y|  0.0|    1.0|[41.0,1.0,130.0,2...|[41.0,1.0,130.0,2...|[1.61240998576064...|       0.0|             y|\n",
      "| 41|  m|  1|     110| 235|  0|      1|    153|    0|    0.0|    2|  0|   2|     y|  0.0|    0.0|[41.0,1.0,110.0,2...|[41.0,1.0,110.0,2...|[1.35696388514107...|       0.0|             y|\n",
      "| 41|  m|  1|     120| 157|  0|      1|    182|    0|    0.0|    2|  0|   2|     y|  0.0|    0.0|[41.0,1.0,120.0,1...|[41.0,1.0,120.0,1...|[1.65615246968859...|       0.0|             y|\n",
      "| 41|  m|  1|     135| 203|  0|      1|    132|    0|    0.0|    1|  0|   1|     y|  0.0|    0.0|[41.0,1.0,135.0,2...|[41.0,1.0,135.0,2...|[1.08371455597593...|       0.0|             y|\n",
      "| 41|  m|  2|     112| 250|  0|      1|    179|    0|    0.0|    2|  0|   2|     y|  0.0|    0.0|[41.0,2.0,112.0,2...|[41.0,2.0,112.0,2...|[2.17222055617881...|       0.0|             y|\n",
      "| 42|  m|  3|     148| 244|  0|      0|    178|    0|    0.8|    2|  2|   2|     y|  0.0|    0.0|[42.0,3.0,148.0,2...|[42.0,3.0,148.0,2...|[1.33684823504480...|       0.0|             y|\n",
      "| 44|  f|  2|     108| 141|  0|      1|    175|    0|    0.6|    1|  0|   2|     y|  0.0|    1.0|[44.0,2.0,108.0,1...|[44.0,2.0,108.0,1...|[2.35318889127026...|       0.0|             y|\n",
      "| 44|  m|  0|     110| 197|  0|      0|    177|    0|    0.0|    2|  1|   2|     n|  1.0|    0.0|(13,[0,2,3,6,9,10...|(13,[0,2,3,6,9,10...|[0.68520957487296...|       0.0|             y|\n",
      "| 44|  m|  1|     130| 219|  0|      0|    188|    0|    0.0|    2|  0|   2|     y|  0.0|    0.0|(13,[0,1,2,3,6,9,...|(13,[0,1,2,3,6,9,...|[1.53929202695927...|       0.0|             y|\n",
      "| 45|  f|  0|     138| 236|  0|      0|    152|    1|    0.2|    1|  0|   2|     y|  0.0|    1.0|[45.0,0.0,138.0,2...|[45.0,0.0,138.0,2...|[0.35341041791256...|       0.0|             y|\n",
      "| 45|  f|  1|     112| 160|  0|      1|    138|    0|    0.0|    1|  0|   2|     y|  0.0|    1.0|[45.0,1.0,112.0,1...|[45.0,1.0,112.0,1...|[1.51665765123809...|       0.0|             y|\n",
      "| 45|  f|  1|     130| 234|  0|      0|    175|    0|    0.6|    1|  0|   2|     y|  0.0|    1.0|[45.0,1.0,130.0,2...|[45.0,1.0,130.0,2...|[1.60813546753669...|       0.0|             y|\n",
      "| 45|  m|  3|     110| 264|  0|      1|    132|    0|    1.2|    1|  0|   3|     n|  1.0|    0.0|[45.0,3.0,110.0,2...|[45.0,3.0,110.0,2...|[1.03632897133690...|       0.0|             y|\n",
      "| 46|  f|  2|     142| 177|  0|      0|    160|    1|    1.4|    0|  0|   2|     y|  0.0|    1.0|[46.0,2.0,142.0,1...|[46.0,2.0,142.0,1...|[0.81102055355660...|       0.0|             y|\n",
      "| 47|  m|  0|     110| 275|  0|      0|    118|    1|    1.0|    1|  1|   2|     n|  1.0|    0.0|[47.0,0.0,110.0,2...|[47.0,0.0,110.0,2...|[-1.1325815773057...|       1.0|             n|\n",
      "| 47|  m|  0|     112| 204|  0|      1|    143|    0|    0.1|    2|  0|   2|     y|  0.0|    0.0|[47.0,0.0,112.0,2...|[47.0,0.0,112.0,2...|[0.66439585440506...|       0.0|             y|\n",
      "| 48|  f|  2|     130| 275|  0|      1|    139|    0|    0.2|    2|  0|   2|     y|  0.0|    1.0|[48.0,2.0,130.0,2...|[48.0,2.0,130.0,2...|[2.08972397268438...|       0.0|             y|\n",
      "| 49|  f|  1|     134| 271|  0|      1|    162|    0|    0.0|    1|  0|   2|     y|  0.0|    1.0|[49.0,1.0,134.0,2...|[49.0,1.0,134.0,2...|[1.68369320955668...|       0.0|             y|\n",
      "+---+---+---+--------+----+---+-------+-------+-----+-------+-----+---+----+------+-----+-------+--------------------+--------------------+--------------------+----------+--------------+\n",
      "only showing top 20 rows\n",
      "\n"
     ]
    }
   ],
   "source": [
    "#test model\n",
    "predictions = cvSVMModel.transform(test)\n",
    "predictions.show()"
   ]
  },
  {
   "cell_type": "code",
   "execution_count": 20,
   "metadata": {},
   "outputs": [
    {
     "name": "stdout",
     "output_type": "stream",
     "text": [
      "Test Error =  0.09717607973421916\n"
     ]
    }
   ],
   "source": [
    "accuracy = evaluator.evaluate(predictions)\n",
    "print(\"Test Error = \" ,(1.0 - accuracy))"
   ]
  },
  {
   "cell_type": "code",
   "execution_count": 21,
   "metadata": {},
   "outputs": [],
   "source": [
    "#confusion matrix\n",
    "\n",
    "predictionAndLabels = predictions.select(\"prediction\", \"label\").rdd.map(lambda p: [p[0], float(p[1])]) # Map to RDD prediction|label\n",
    "metrics =  MulticlassMetrics(predictionAndLabels)"
   ]
  },
  {
   "cell_type": "code",
   "execution_count": 22,
   "metadata": {},
   "outputs": [
    {
     "name": "stdout",
     "output_type": "stream",
     "text": [
      "Confusion matrix: \n",
      " DenseMatrix([[40.,  3.],\n",
      "             [ 8., 20.]])\n"
     ]
    }
   ],
   "source": [
    "confusion = metrics.confusionMatrix()\n",
    "print(\"Confusion matrix: \\n\" , confusion)"
   ]
  },
  {
   "cell_type": "code",
   "execution_count": 23,
   "metadata": {},
   "outputs": [
    {
     "name": "stdout",
     "output_type": "stream",
     "text": [
      "[0.0, 1.0]\n",
      "Class 0.000000 precision = 0.833333\n",
      "\n",
      "Class 0.000000 recall = 0.930233\n",
      "\n",
      "Class 0.000000 F1 score = 0.879121\n",
      "\n",
      "Class 1.000000 precision = 0.869565\n",
      "\n",
      "Class 1.000000 recall = 0.714286\n",
      "\n",
      "Class 1.000000 F1 score = 0.784314\n",
      "\n"
     ]
    }
   ],
   "source": [
    "##statistics per label\n",
    "\n",
    "labels = predictionAndLabels.map(lambda x: x[1]).distinct().collect()\n",
    "print(labels)\n",
    "for label in  labels:\n",
    "  print(\"Class %f precision = %f\\n\" % (label , metrics.precision(label)))\n",
    "  print(\"Class %f recall = %f\\n\" % (label, metrics.recall(label)))\n",
    "  print(\"Class %f F1 score = %f\\n\" % (label, metrics.fMeasure( label)))"
   ]
  },
  {
   "cell_type": "code",
   "execution_count": 24,
   "metadata": {},
   "outputs": [
    {
     "name": "stdout",
     "output_type": "stream",
     "text": [
      "Weighted precision = 0.8476219636660544\n",
      "\n",
      "Weighted recall = 0.8450704225352113\n",
      "\n",
      "Weighted false positive rate = 0.20055215010996208\n",
      "\n"
     ]
    }
   ],
   "source": [
    "#weighted stats\n",
    "print(\"Weighted precision = %s\\n\" % metrics.weightedPrecision)\n",
    "print(\"Weighted recall = %s\\n\" % metrics.weightedRecall)\n",
    "print(\"Weighted false positive rate = %s\\n\" % metrics.weightedFalsePositiveRate)"
   ]
  },
  {
   "cell_type": "code",
   "execution_count": 25,
   "metadata": {},
   "outputs": [
    {
     "name": "stdout",
     "output_type": "stream",
     "text": [
      "Recall = 0.7142857142857143\n",
      "Precision = 0.8695652173913043\n",
      "Accuracy = 0.8450704225352113\n",
      "F1 = 0.7843137254901961\n"
     ]
    }
   ],
   "source": [
    "#summary of stats\n",
    "print(f\"Recall = {metrics.recall(1.0)}\")\n",
    "print(f\"Precision = {metrics.precision(1.0)}\")\n",
    "print(f\"Accuracy = {metrics.accuracy}\") \n",
    "print(f\"F1 = {metrics.fMeasure(1.0)}\")"
   ]
  },
  {
   "cell_type": "code",
   "execution_count": 26,
   "metadata": {},
   "outputs": [],
   "source": [
    "spark.stop()"
   ]
  }
 ],
 "metadata": {
  "kernelspec": {
   "display_name": "Python 3",
   "language": "python",
   "name": "python3"
  },
  "language_info": {
   "codemirror_mode": {
    "name": "ipython",
    "version": 3
   },
   "file_extension": ".py",
   "mimetype": "text/x-python",
   "name": "python",
   "nbconvert_exporter": "python",
   "pygments_lexer": "ipython3",
   "version": "3.8.6"
  }
 },
 "nbformat": 4,
 "nbformat_minor": 4
}
